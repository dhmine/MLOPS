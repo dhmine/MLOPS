{
 "cells": [
  {
   "cell_type": "code",
   "execution_count": 1,
   "metadata": {
    "collapsed": true
   },
   "outputs": [],
   "source": [
    "%matplotlib inline\n",
    "import numpy as np\n",
    "import pandas as pd\n",
    "import matplotlib.pyplot as plt\n",
    "from pylab import rcParams\n",
    "import seaborn as sns\n",
    "rcParams['figure.figsize'] = 14, 8"
   ]
  },
  {
   "cell_type": "code",
   "execution_count": 2,
   "outputs": [],
   "source": [
    "df = pd.read_csv('creditcard.csv')"
   ],
   "metadata": {
    "collapsed": false
   }
  },
  {
   "cell_type": "code",
   "execution_count": 3,
   "outputs": [
    {
     "data": {
      "text/plain": "   Time        V1        V2        V3        V4        V5        V6        V7  \\\n0   0.0 -1.359807 -0.072781  2.536347  1.378155 -0.338321  0.462388  0.239599   \n1   0.0  1.191857  0.266151  0.166480  0.448154  0.060018 -0.082361 -0.078803   \n2   1.0 -1.358354 -1.340163  1.773209  0.379780 -0.503198  1.800499  0.791461   \n3   1.0 -0.966272 -0.185226  1.792993 -0.863291 -0.010309  1.247203  0.237609   \n4   2.0 -1.158233  0.877737  1.548718  0.403034 -0.407193  0.095921  0.592941   \n\n         V8        V9  ...       V21       V22       V23       V24       V25  \\\n0  0.098698  0.363787  ... -0.018307  0.277838 -0.110474  0.066928  0.128539   \n1  0.085102 -0.255425  ... -0.225775 -0.638672  0.101288 -0.339846  0.167170   \n2  0.247676 -1.514654  ...  0.247998  0.771679  0.909412 -0.689281 -0.327642   \n3  0.377436 -1.387024  ... -0.108300  0.005274 -0.190321 -1.175575  0.647376   \n4 -0.270533  0.817739  ... -0.009431  0.798278 -0.137458  0.141267 -0.206010   \n\n        V26       V27       V28  Amount  Class  \n0 -0.189115  0.133558 -0.021053  149.62      0  \n1  0.125895 -0.008983  0.014724    2.69      0  \n2 -0.139097 -0.055353 -0.059752  378.66      0  \n3 -0.221929  0.062723  0.061458  123.50      0  \n4  0.502292  0.219422  0.215153   69.99      0  \n\n[5 rows x 31 columns]",
      "text/html": "<div>\n<style scoped>\n    .dataframe tbody tr th:only-of-type {\n        vertical-align: middle;\n    }\n\n    .dataframe tbody tr th {\n        vertical-align: top;\n    }\n\n    .dataframe thead th {\n        text-align: right;\n    }\n</style>\n<table border=\"1\" class=\"dataframe\">\n  <thead>\n    <tr style=\"text-align: right;\">\n      <th></th>\n      <th>Time</th>\n      <th>V1</th>\n      <th>V2</th>\n      <th>V3</th>\n      <th>V4</th>\n      <th>V5</th>\n      <th>V6</th>\n      <th>V7</th>\n      <th>V8</th>\n      <th>V9</th>\n      <th>...</th>\n      <th>V21</th>\n      <th>V22</th>\n      <th>V23</th>\n      <th>V24</th>\n      <th>V25</th>\n      <th>V26</th>\n      <th>V27</th>\n      <th>V28</th>\n      <th>Amount</th>\n      <th>Class</th>\n    </tr>\n  </thead>\n  <tbody>\n    <tr>\n      <th>0</th>\n      <td>0.0</td>\n      <td>-1.359807</td>\n      <td>-0.072781</td>\n      <td>2.536347</td>\n      <td>1.378155</td>\n      <td>-0.338321</td>\n      <td>0.462388</td>\n      <td>0.239599</td>\n      <td>0.098698</td>\n      <td>0.363787</td>\n      <td>...</td>\n      <td>-0.018307</td>\n      <td>0.277838</td>\n      <td>-0.110474</td>\n      <td>0.066928</td>\n      <td>0.128539</td>\n      <td>-0.189115</td>\n      <td>0.133558</td>\n      <td>-0.021053</td>\n      <td>149.62</td>\n      <td>0</td>\n    </tr>\n    <tr>\n      <th>1</th>\n      <td>0.0</td>\n      <td>1.191857</td>\n      <td>0.266151</td>\n      <td>0.166480</td>\n      <td>0.448154</td>\n      <td>0.060018</td>\n      <td>-0.082361</td>\n      <td>-0.078803</td>\n      <td>0.085102</td>\n      <td>-0.255425</td>\n      <td>...</td>\n      <td>-0.225775</td>\n      <td>-0.638672</td>\n      <td>0.101288</td>\n      <td>-0.339846</td>\n      <td>0.167170</td>\n      <td>0.125895</td>\n      <td>-0.008983</td>\n      <td>0.014724</td>\n      <td>2.69</td>\n      <td>0</td>\n    </tr>\n    <tr>\n      <th>2</th>\n      <td>1.0</td>\n      <td>-1.358354</td>\n      <td>-1.340163</td>\n      <td>1.773209</td>\n      <td>0.379780</td>\n      <td>-0.503198</td>\n      <td>1.800499</td>\n      <td>0.791461</td>\n      <td>0.247676</td>\n      <td>-1.514654</td>\n      <td>...</td>\n      <td>0.247998</td>\n      <td>0.771679</td>\n      <td>0.909412</td>\n      <td>-0.689281</td>\n      <td>-0.327642</td>\n      <td>-0.139097</td>\n      <td>-0.055353</td>\n      <td>-0.059752</td>\n      <td>378.66</td>\n      <td>0</td>\n    </tr>\n    <tr>\n      <th>3</th>\n      <td>1.0</td>\n      <td>-0.966272</td>\n      <td>-0.185226</td>\n      <td>1.792993</td>\n      <td>-0.863291</td>\n      <td>-0.010309</td>\n      <td>1.247203</td>\n      <td>0.237609</td>\n      <td>0.377436</td>\n      <td>-1.387024</td>\n      <td>...</td>\n      <td>-0.108300</td>\n      <td>0.005274</td>\n      <td>-0.190321</td>\n      <td>-1.175575</td>\n      <td>0.647376</td>\n      <td>-0.221929</td>\n      <td>0.062723</td>\n      <td>0.061458</td>\n      <td>123.50</td>\n      <td>0</td>\n    </tr>\n    <tr>\n      <th>4</th>\n      <td>2.0</td>\n      <td>-1.158233</td>\n      <td>0.877737</td>\n      <td>1.548718</td>\n      <td>0.403034</td>\n      <td>-0.407193</td>\n      <td>0.095921</td>\n      <td>0.592941</td>\n      <td>-0.270533</td>\n      <td>0.817739</td>\n      <td>...</td>\n      <td>-0.009431</td>\n      <td>0.798278</td>\n      <td>-0.137458</td>\n      <td>0.141267</td>\n      <td>-0.206010</td>\n      <td>0.502292</td>\n      <td>0.219422</td>\n      <td>0.215153</td>\n      <td>69.99</td>\n      <td>0</td>\n    </tr>\n  </tbody>\n</table>\n<p>5 rows × 31 columns</p>\n</div>"
     },
     "execution_count": 3,
     "metadata": {},
     "output_type": "execute_result"
    }
   ],
   "source": [
    "df.head()"
   ],
   "metadata": {
    "collapsed": false
   }
  },
  {
   "cell_type": "code",
   "execution_count": 4,
   "outputs": [
    {
     "data": {
      "text/plain": "(284807, 31)"
     },
     "execution_count": 4,
     "metadata": {},
     "output_type": "execute_result"
    }
   ],
   "source": [
    "df.shape"
   ],
   "metadata": {
    "collapsed": false
   }
  },
  {
   "cell_type": "code",
   "execution_count": 5,
   "outputs": [
    {
     "data": {
      "text/plain": "                Time            V1            V2            V3            V4  \\\ncount  284807.000000  2.848070e+05  2.848070e+05  2.848070e+05  2.848070e+05   \nmean    94813.859575  3.918649e-15  5.682686e-16 -8.761736e-15  2.811118e-15   \nstd     47488.145955  1.958696e+00  1.651309e+00  1.516255e+00  1.415869e+00   \nmin         0.000000 -5.640751e+01 -7.271573e+01 -4.832559e+01 -5.683171e+00   \n25%     54201.500000 -9.203734e-01 -5.985499e-01 -8.903648e-01 -8.486401e-01   \n50%     84692.000000  1.810880e-02  6.548556e-02  1.798463e-01 -1.984653e-02   \n75%    139320.500000  1.315642e+00  8.037239e-01  1.027196e+00  7.433413e-01   \nmax    172792.000000  2.454930e+00  2.205773e+01  9.382558e+00  1.687534e+01   \n\n                 V5            V6            V7            V8            V9  \\\ncount  2.848070e+05  2.848070e+05  2.848070e+05  2.848070e+05  2.848070e+05   \nmean  -1.552103e-15  2.040130e-15 -1.698953e-15 -1.893285e-16 -3.147640e-15   \nstd    1.380247e+00  1.332271e+00  1.237094e+00  1.194353e+00  1.098632e+00   \nmin   -1.137433e+02 -2.616051e+01 -4.355724e+01 -7.321672e+01 -1.343407e+01   \n25%   -6.915971e-01 -7.682956e-01 -5.540759e-01 -2.086297e-01 -6.430976e-01   \n50%   -5.433583e-02 -2.741871e-01  4.010308e-02  2.235804e-02 -5.142873e-02   \n75%    6.119264e-01  3.985649e-01  5.704361e-01  3.273459e-01  5.971390e-01   \nmax    3.480167e+01  7.330163e+01  1.205895e+02  2.000721e+01  1.559499e+01   \n\n       ...           V21           V22           V23           V24  \\\ncount  ...  2.848070e+05  2.848070e+05  2.848070e+05  2.848070e+05   \nmean   ...  1.473120e-16  8.042109e-16  5.282512e-16  4.456271e-15   \nstd    ...  7.345240e-01  7.257016e-01  6.244603e-01  6.056471e-01   \nmin    ... -3.483038e+01 -1.093314e+01 -4.480774e+01 -2.836627e+00   \n25%    ... -2.283949e-01 -5.423504e-01 -1.618463e-01 -3.545861e-01   \n50%    ... -2.945017e-02  6.781943e-03 -1.119293e-02  4.097606e-02   \n75%    ...  1.863772e-01  5.285536e-01  1.476421e-01  4.395266e-01   \nmax    ...  2.720284e+01  1.050309e+01  2.252841e+01  4.584549e+00   \n\n                V25           V26           V27           V28         Amount  \\\ncount  2.848070e+05  2.848070e+05  2.848070e+05  2.848070e+05  284807.000000   \nmean   1.426896e-15  1.701640e-15 -3.662252e-16 -1.217809e-16      88.349619   \nstd    5.212781e-01  4.822270e-01  4.036325e-01  3.300833e-01     250.120109   \nmin   -1.029540e+01 -2.604551e+00 -2.256568e+01 -1.543008e+01       0.000000   \n25%   -3.171451e-01 -3.269839e-01 -7.083953e-02 -5.295979e-02       5.600000   \n50%    1.659350e-02 -5.213911e-02  1.342146e-03  1.124383e-02      22.000000   \n75%    3.507156e-01  2.409522e-01  9.104512e-02  7.827995e-02      77.165000   \nmax    7.519589e+00  3.517346e+00  3.161220e+01  3.384781e+01   25691.160000   \n\n               Class  \ncount  284807.000000  \nmean        0.001727  \nstd         0.041527  \nmin         0.000000  \n25%         0.000000  \n50%         0.000000  \n75%         0.000000  \nmax         1.000000  \n\n[8 rows x 31 columns]",
      "text/html": "<div>\n<style scoped>\n    .dataframe tbody tr th:only-of-type {\n        vertical-align: middle;\n    }\n\n    .dataframe tbody tr th {\n        vertical-align: top;\n    }\n\n    .dataframe thead th {\n        text-align: right;\n    }\n</style>\n<table border=\"1\" class=\"dataframe\">\n  <thead>\n    <tr style=\"text-align: right;\">\n      <th></th>\n      <th>Time</th>\n      <th>V1</th>\n      <th>V2</th>\n      <th>V3</th>\n      <th>V4</th>\n      <th>V5</th>\n      <th>V6</th>\n      <th>V7</th>\n      <th>V8</th>\n      <th>V9</th>\n      <th>...</th>\n      <th>V21</th>\n      <th>V22</th>\n      <th>V23</th>\n      <th>V24</th>\n      <th>V25</th>\n      <th>V26</th>\n      <th>V27</th>\n      <th>V28</th>\n      <th>Amount</th>\n      <th>Class</th>\n    </tr>\n  </thead>\n  <tbody>\n    <tr>\n      <th>count</th>\n      <td>284807.000000</td>\n      <td>2.848070e+05</td>\n      <td>2.848070e+05</td>\n      <td>2.848070e+05</td>\n      <td>2.848070e+05</td>\n      <td>2.848070e+05</td>\n      <td>2.848070e+05</td>\n      <td>2.848070e+05</td>\n      <td>2.848070e+05</td>\n      <td>2.848070e+05</td>\n      <td>...</td>\n      <td>2.848070e+05</td>\n      <td>2.848070e+05</td>\n      <td>2.848070e+05</td>\n      <td>2.848070e+05</td>\n      <td>2.848070e+05</td>\n      <td>2.848070e+05</td>\n      <td>2.848070e+05</td>\n      <td>2.848070e+05</td>\n      <td>284807.000000</td>\n      <td>284807.000000</td>\n    </tr>\n    <tr>\n      <th>mean</th>\n      <td>94813.859575</td>\n      <td>3.918649e-15</td>\n      <td>5.682686e-16</td>\n      <td>-8.761736e-15</td>\n      <td>2.811118e-15</td>\n      <td>-1.552103e-15</td>\n      <td>2.040130e-15</td>\n      <td>-1.698953e-15</td>\n      <td>-1.893285e-16</td>\n      <td>-3.147640e-15</td>\n      <td>...</td>\n      <td>1.473120e-16</td>\n      <td>8.042109e-16</td>\n      <td>5.282512e-16</td>\n      <td>4.456271e-15</td>\n      <td>1.426896e-15</td>\n      <td>1.701640e-15</td>\n      <td>-3.662252e-16</td>\n      <td>-1.217809e-16</td>\n      <td>88.349619</td>\n      <td>0.001727</td>\n    </tr>\n    <tr>\n      <th>std</th>\n      <td>47488.145955</td>\n      <td>1.958696e+00</td>\n      <td>1.651309e+00</td>\n      <td>1.516255e+00</td>\n      <td>1.415869e+00</td>\n      <td>1.380247e+00</td>\n      <td>1.332271e+00</td>\n      <td>1.237094e+00</td>\n      <td>1.194353e+00</td>\n      <td>1.098632e+00</td>\n      <td>...</td>\n      <td>7.345240e-01</td>\n      <td>7.257016e-01</td>\n      <td>6.244603e-01</td>\n      <td>6.056471e-01</td>\n      <td>5.212781e-01</td>\n      <td>4.822270e-01</td>\n      <td>4.036325e-01</td>\n      <td>3.300833e-01</td>\n      <td>250.120109</td>\n      <td>0.041527</td>\n    </tr>\n    <tr>\n      <th>min</th>\n      <td>0.000000</td>\n      <td>-5.640751e+01</td>\n      <td>-7.271573e+01</td>\n      <td>-4.832559e+01</td>\n      <td>-5.683171e+00</td>\n      <td>-1.137433e+02</td>\n      <td>-2.616051e+01</td>\n      <td>-4.355724e+01</td>\n      <td>-7.321672e+01</td>\n      <td>-1.343407e+01</td>\n      <td>...</td>\n      <td>-3.483038e+01</td>\n      <td>-1.093314e+01</td>\n      <td>-4.480774e+01</td>\n      <td>-2.836627e+00</td>\n      <td>-1.029540e+01</td>\n      <td>-2.604551e+00</td>\n      <td>-2.256568e+01</td>\n      <td>-1.543008e+01</td>\n      <td>0.000000</td>\n      <td>0.000000</td>\n    </tr>\n    <tr>\n      <th>25%</th>\n      <td>54201.500000</td>\n      <td>-9.203734e-01</td>\n      <td>-5.985499e-01</td>\n      <td>-8.903648e-01</td>\n      <td>-8.486401e-01</td>\n      <td>-6.915971e-01</td>\n      <td>-7.682956e-01</td>\n      <td>-5.540759e-01</td>\n      <td>-2.086297e-01</td>\n      <td>-6.430976e-01</td>\n      <td>...</td>\n      <td>-2.283949e-01</td>\n      <td>-5.423504e-01</td>\n      <td>-1.618463e-01</td>\n      <td>-3.545861e-01</td>\n      <td>-3.171451e-01</td>\n      <td>-3.269839e-01</td>\n      <td>-7.083953e-02</td>\n      <td>-5.295979e-02</td>\n      <td>5.600000</td>\n      <td>0.000000</td>\n    </tr>\n    <tr>\n      <th>50%</th>\n      <td>84692.000000</td>\n      <td>1.810880e-02</td>\n      <td>6.548556e-02</td>\n      <td>1.798463e-01</td>\n      <td>-1.984653e-02</td>\n      <td>-5.433583e-02</td>\n      <td>-2.741871e-01</td>\n      <td>4.010308e-02</td>\n      <td>2.235804e-02</td>\n      <td>-5.142873e-02</td>\n      <td>...</td>\n      <td>-2.945017e-02</td>\n      <td>6.781943e-03</td>\n      <td>-1.119293e-02</td>\n      <td>4.097606e-02</td>\n      <td>1.659350e-02</td>\n      <td>-5.213911e-02</td>\n      <td>1.342146e-03</td>\n      <td>1.124383e-02</td>\n      <td>22.000000</td>\n      <td>0.000000</td>\n    </tr>\n    <tr>\n      <th>75%</th>\n      <td>139320.500000</td>\n      <td>1.315642e+00</td>\n      <td>8.037239e-01</td>\n      <td>1.027196e+00</td>\n      <td>7.433413e-01</td>\n      <td>6.119264e-01</td>\n      <td>3.985649e-01</td>\n      <td>5.704361e-01</td>\n      <td>3.273459e-01</td>\n      <td>5.971390e-01</td>\n      <td>...</td>\n      <td>1.863772e-01</td>\n      <td>5.285536e-01</td>\n      <td>1.476421e-01</td>\n      <td>4.395266e-01</td>\n      <td>3.507156e-01</td>\n      <td>2.409522e-01</td>\n      <td>9.104512e-02</td>\n      <td>7.827995e-02</td>\n      <td>77.165000</td>\n      <td>0.000000</td>\n    </tr>\n    <tr>\n      <th>max</th>\n      <td>172792.000000</td>\n      <td>2.454930e+00</td>\n      <td>2.205773e+01</td>\n      <td>9.382558e+00</td>\n      <td>1.687534e+01</td>\n      <td>3.480167e+01</td>\n      <td>7.330163e+01</td>\n      <td>1.205895e+02</td>\n      <td>2.000721e+01</td>\n      <td>1.559499e+01</td>\n      <td>...</td>\n      <td>2.720284e+01</td>\n      <td>1.050309e+01</td>\n      <td>2.252841e+01</td>\n      <td>4.584549e+00</td>\n      <td>7.519589e+00</td>\n      <td>3.517346e+00</td>\n      <td>3.161220e+01</td>\n      <td>3.384781e+01</td>\n      <td>25691.160000</td>\n      <td>1.000000</td>\n    </tr>\n  </tbody>\n</table>\n<p>8 rows × 31 columns</p>\n</div>"
     },
     "execution_count": 5,
     "metadata": {},
     "output_type": "execute_result"
    }
   ],
   "source": [
    "df.describe()"
   ],
   "metadata": {
    "collapsed": false
   }
  },
  {
   "cell_type": "markdown",
   "source": [
    "Let's split data to normal and fraud classes : 1 if it's fraud and 0 if it's normal"
   ],
   "metadata": {
    "collapsed": false
   }
  },
  {
   "cell_type": "code",
   "execution_count": 6,
   "outputs": [],
   "source": [
    "fraud_df = df[df.Class == 1]\n",
    "normal_df = df[df.Class == 0]"
   ],
   "metadata": {
    "collapsed": false
   }
  },
  {
   "cell_type": "code",
   "execution_count": 7,
   "outputs": [
    {
     "name": "stdout",
     "output_type": "stream",
     "text": [
      "Fraud: (492, 31)\n",
      "Normal: (284315, 31)\n"
     ]
    }
   ],
   "source": [
    "print(f\"Fraud: {fraud_df.shape}\")\n",
    "print(f\"Normal: {normal_df.shape}\")"
   ],
   "metadata": {
    "collapsed": false
   }
  },
  {
   "cell_type": "code",
   "execution_count": 8,
   "outputs": [
    {
     "data": {
      "text/plain": "Text(0, 0.5, 'Counts')"
     },
     "execution_count": 8,
     "metadata": {},
     "output_type": "execute_result"
    },
    {
     "data": {
      "text/plain": "<Figure size 1008x576 with 1 Axes>",
      "image/png": "[encoded data removed]"
     },
     "metadata": {
      "needs_background": "light"
     },
     "output_type": "display_data"
    }
   ],
   "source": [
    "class_counts = pd.value_counts(df['Class'], sort = True)\n",
    "class_counts.plot(kind = 'bar', rot=0)\n",
    "plt.title(\"Class Distribution\")\n",
    "plt.xticks(range(2), [\"Normal\", \"Anomaly\"])\n",
    "plt.xlabel(\"Label\")\n",
    "plt.ylabel(\"Counts\")"
   ],
   "metadata": {
    "collapsed": false
   }
  },
  {
   "cell_type": "markdown",
   "source": [
    "From here, we can see the immense difference between the number of the two classes. Which means that the data is overwhelmingly\n",
    "biased towards normal data, and that anomalies only comprise a vast minority of data points in the overall data set."
   ],
   "metadata": {
    "collapsed": false
   }
  },
  {
   "cell_type": "code",
   "execution_count": 9,
   "outputs": [
    {
     "data": {
      "text/plain": "count     492.000000\nmean      122.211321\nstd       256.683288\nmin         0.000000\n25%         1.000000\n50%         9.250000\n75%       105.890000\nmax      2125.870000\nName: Amount, dtype: float64"
     },
     "execution_count": 9,
     "metadata": {},
     "output_type": "execute_result"
    }
   ],
   "source": [
    "fraud_df.Amount.describe()"
   ],
   "metadata": {
    "collapsed": false
   }
  },
  {
   "cell_type": "code",
   "execution_count": 10,
   "outputs": [
    {
     "data": {
      "text/plain": "count    284315.000000\nmean         88.291022\nstd         250.105092\nmin           0.000000\n25%           5.650000\n50%          22.000000\n75%          77.050000\nmax       25691.160000\nName: Amount, dtype: float64"
     },
     "execution_count": 10,
     "metadata": {},
     "output_type": "execute_result"
    }
   ],
   "source": [
    "normal_df.Amount.describe()"
   ],
   "metadata": {
    "collapsed": false
   }
  },
  {
   "cell_type": "code",
   "execution_count": 11,
   "outputs": [
    {
     "data": {
      "text/plain": "<seaborn.axisgrid.FacetGrid at 0x2611ccdd580>"
     },
     "execution_count": 11,
     "metadata": {},
     "output_type": "execute_result"
    },
    {
     "data": {
      "text/plain": "<Figure size 360x360 with 1 Axes>",
      "image/png": "[encoded data removed]"
     },
     "metadata": {
      "needs_background": "light"
     },
     "output_type": "display_data"
    }
   ],
   "source": [
    "sns.displot(normal_df, x=\"Amount\", kde = True)"
   ],
   "metadata": {
    "collapsed": false
   }
  },
  {
   "cell_type": "code",
   "execution_count": 12,
   "outputs": [
    {
     "data": {
      "text/plain": "<seaborn.axisgrid.FacetGrid at 0x2611db55340>"
     },
     "execution_count": 12,
     "metadata": {},
     "output_type": "execute_result"
    },
    {
     "data": {
      "text/plain": "<Figure size 360x360 with 1 Axes>",
      "image/png": "[encoded data removed]"
     },
     "metadata": {
      "needs_background": "light"
     },
     "output_type": "display_data"
    }
   ],
   "source": [
    "sns.displot(fraud_df, x=\"Amount\", kde = True)"
   ],
   "metadata": {
    "collapsed": false
   }
  },
  {
   "cell_type": "code",
   "execution_count": 13,
   "outputs": [],
   "source": [
    "def plot_histogram(df, bins, column, log_scale=False):\n",
    "    bins = 100\n",
    "    fraud = df[df.Class == 1]\n",
    "    normal = df[df.Class == 0]\n",
    "    fig, (ax1, ax2) = plt.subplots(2, 1, sharex=True)\n",
    "    fig.suptitle(f'Counts of {column} by Class')\n",
    "    ax1.hist(fraud[column], bins = bins, color=\"peru\")\n",
    "    ax1.set_title('Fraud')\n",
    "    ax2.hist(normal[column], bins = bins, color=\"orange\")\n",
    "    ax2.set_title('Normal')\n",
    "    plt.xlabel(f'{column}')\n",
    "    plt.ylabel('Count')\n",
    "    if log_scale:\n",
    "        plt.yscale('log')\n",
    "    plt.xlim((np.min(df[column]), np.max(df[column])))\n",
    "    plt.show()"
   ],
   "metadata": {
    "collapsed": false
   }
  },
  {
   "cell_type": "code",
   "execution_count": 14,
   "outputs": [],
   "source": [
    "20\n",
    "def plot_scatter(df, x_col, y_col, sharey = False):\n",
    "    fraud = df[df.Class == 1]\n",
    "    normal = df[df.Class == 0]\n",
    "    fig, (ax1, ax2) = plt.subplots(2, 1, sharex=True,\n",
    "                                   sharey=sharey)\n",
    "    fig.suptitle(f'{y_col} over {x_col} by Class')\n",
    "    ax1.scatter(fraud[x_col], fraud[y_col], color='peru')\n",
    "    ax1.set_title('Anomaly')\n",
    "    ax2.scatter(normal[x_col], normal[y_col], color='orange')\n",
    "    ax2.set_title('Normal')\n",
    "    plt.xlabel(x_col)\n",
    "    plt.ylabel(y_col)\n",
    "    plt.show()"
   ],
   "metadata": {
    "collapsed": false
   }
  },
  {
   "cell_type": "code",
   "execution_count": 15,
   "outputs": [
    {
     "data": {
      "text/plain": "<Figure size 1008x576 with 1 Axes>",
      "image/png": "[encoded data removed]"
     },
     "metadata": {
      "needs_background": "light"
     },
     "output_type": "display_data"
    }
   ],
   "source": [
    "plt.scatter(df.Amount, df.Class)\n",
    "plt.title(\"Transaction Amounts by Class\")\n",
    "plt.ylabel(\"Class\")\n",
    "plt.yticks(range(2), [\"Normal\", \"Fraud\"])\n",
    "plt.xlabel(\"Transaction Amounts ($)\")\n",
    "plt.show()"
   ],
   "metadata": {
    "collapsed": false
   }
  },
  {
   "cell_type": "markdown",
   "source": [
    "We can notice directly that we have a lot of outliers in normal data. Let's have a deep look."
   ],
   "metadata": {
    "collapsed": false
   }
  },
  {
   "cell_type": "code",
   "execution_count": 16,
   "outputs": [
    {
     "data": {
      "text/plain": "<Figure size 1008x576 with 2 Axes>",
      "image/png": "[encoded data removed]"
     },
     "metadata": {
      "needs_background": "light"
     },
     "output_type": "display_data"
    }
   ],
   "source": [
    "bins = 100\n",
    "plot_histogram(df, bins, \"Amount\", log_scale=True)"
   ],
   "metadata": {
    "collapsed": false
   }
  },
  {
   "cell_type": "markdown",
   "source": [
    "We can't see anything for fraud data. Let's create another plot to see."
   ],
   "metadata": {
    "collapsed": false
   }
  },
  {
   "cell_type": "code",
   "execution_count": 17,
   "outputs": [
    {
     "data": {
      "text/plain": "<Figure size 1008x576 with 1 Axes>",
      "image/png": "[encoded data removed]"
     },
     "metadata": {
      "needs_background": "light"
     },
     "output_type": "display_data"
    }
   ],
   "source": [
    "plt.hist(fraud_df.Amount, bins = bins, color=\"peru\")\n",
    "plt.show()"
   ],
   "metadata": {
    "collapsed": false
   }
  },
  {
   "cell_type": "markdown",
   "source": [
    "\n",
    "The anomalies seem to be right skewed as well, but much more heavily\n",
    "so. This means that the majority of anomalous transactions actually have\n",
    "quite low transaction amounts."
   ],
   "metadata": {
    "collapsed": false
   }
  },
  {
   "cell_type": "code",
   "execution_count": 18,
   "outputs": [
    {
     "data": {
      "text/plain": "<Figure size 1008x576 with 1 Axes>",
      "image/png": "[encoded data removed]"
     },
     "metadata": {
      "needs_background": "light"
     },
     "output_type": "display_data"
    }
   ],
   "source": [
    "plt.scatter(df.Time, df.Class)\n",
    "plt.title(\"Transactions over Time by Class\")\n",
    "plt.ylabel(\"Class\")\n",
    "plt.yticks(range(2), [\"Normal\", \"Fraud\"])\n",
    "plt.xlabel(\"Time (s)\")\n",
    "plt.show()"
   ],
   "metadata": {
    "collapsed": false
   }
  },
  {
   "cell_type": "code",
   "execution_count": 19,
   "outputs": [
    {
     "data": {
      "text/plain": "<Figure size 1008x576 with 2 Axes>",
      "image/png": "[encoded data removed]"
     },
     "metadata": {
      "needs_background": "light"
     },
     "output_type": "display_data"
    }
   ],
   "source": [
    "plot_scatter(df, \"Time\", \"Amount\")"
   ],
   "metadata": {
    "collapsed": false
   }
  },
  {
   "cell_type": "code",
   "execution_count": 20,
   "outputs": [
    {
     "data": {
      "text/plain": "<Figure size 1008x576 with 2 Axes>",
      "image/png": "[encoded data removed]"
     },
     "metadata": {
      "needs_background": "light"
     },
     "output_type": "display_data"
    }
   ],
   "source": [
    "plot_histogram(df, bins, \"Time\")"
   ],
   "metadata": {
    "collapsed": false
   }
  },
  {
   "cell_type": "markdown",
   "source": [
    "From this, you get a really good context of the amount of fraudulent/\n",
    "anomalous transactions going on over time. For the normal data, it seems\n",
    "that they occur in waves"
   ],
   "metadata": {
    "collapsed": false
   }
  },
  {
   "cell_type": "markdown",
   "source": [
    "# Building Model"
   ],
   "metadata": {
    "collapsed": false
   }
  },
  {
   "cell_type": "code",
   "execution_count": 21,
   "outputs": [],
   "source": [
    "import numpy as np\n",
    "import pandas as pd\n",
    "import matplotlib #\n",
    "import matplotlib.pyplot as plt\n",
    "import seaborn as sns\n",
    "import sklearn #\n",
    "from sklearn.linear_model import LogisticRegression\n",
    "from sklearn.model_selection import train_test_split\n",
    "from sklearn.preprocessing import StandardScaler\n",
    "from sklearn.metrics import roc_auc_score, plot_roc_curve, confusion_matrix\n",
    "from sklearn.model_selection import KFold"
   ],
   "metadata": {
    "collapsed": false
   }
  },
  {
   "cell_type": "code",
   "execution_count": 22,
   "outputs": [
    {
     "data": {
      "text/plain": "   Time        V1        V2        V3        V4        V5        V6        V7  \\\n0   0.0 -1.359807 -0.072781  2.536347  1.378155 -0.338321  0.462388  0.239599   \n1   0.0  1.191857  0.266151  0.166480  0.448154  0.060018 -0.082361 -0.078803   \n2   1.0 -1.358354 -1.340163  1.773209  0.379780 -0.503198  1.800499  0.791461   \n3   1.0 -0.966272 -0.185226  1.792993 -0.863291 -0.010309  1.247203  0.237609   \n4   2.0 -1.158233  0.877737  1.548718  0.403034 -0.407193  0.095921  0.592941   \n\n         V8        V9  ...       V21       V22       V23       V24       V25  \\\n0  0.098698  0.363787  ... -0.018307  0.277838 -0.110474  0.066928  0.128539   \n1  0.085102 -0.255425  ... -0.225775 -0.638672  0.101288 -0.339846  0.167170   \n2  0.247676 -1.514654  ...  0.247998  0.771679  0.909412 -0.689281 -0.327642   \n3  0.377436 -1.387024  ... -0.108300  0.005274 -0.190321 -1.175575  0.647376   \n4 -0.270533  0.817739  ... -0.009431  0.798278 -0.137458  0.141267 -0.206010   \n\n        V26       V27       V28  Amount  Class  \n0 -0.189115  0.133558 -0.021053  149.62      0  \n1  0.125895 -0.008983  0.014724    2.69      0  \n2 -0.139097 -0.055353 -0.059752  378.66      0  \n3 -0.221929  0.062723  0.061458  123.50      0  \n4  0.502292  0.219422  0.215153   69.99      0  \n\n[5 rows x 31 columns]",
      "text/html": "<div>\n<style scoped>\n    .dataframe tbody tr th:only-of-type {\n        vertical-align: middle;\n    }\n\n    .dataframe tbody tr th {\n        vertical-align: top;\n    }\n\n    .dataframe thead th {\n        text-align: right;\n    }\n</style>\n<table border=\"1\" class=\"dataframe\">\n  <thead>\n    <tr style=\"text-align: right;\">\n      <th></th>\n      <th>Time</th>\n      <th>V1</th>\n      <th>V2</th>\n      <th>V3</th>\n      <th>V4</th>\n      <th>V5</th>\n      <th>V6</th>\n      <th>V7</th>\n      <th>V8</th>\n      <th>V9</th>\n      <th>...</th>\n      <th>V21</th>\n      <th>V22</th>\n      <th>V23</th>\n      <th>V24</th>\n      <th>V25</th>\n      <th>V26</th>\n      <th>V27</th>\n      <th>V28</th>\n      <th>Amount</th>\n      <th>Class</th>\n    </tr>\n  </thead>\n  <tbody>\n    <tr>\n      <th>0</th>\n      <td>0.0</td>\n      <td>-1.359807</td>\n      <td>-0.072781</td>\n      <td>2.536347</td>\n      <td>1.378155</td>\n      <td>-0.338321</td>\n      <td>0.462388</td>\n      <td>0.239599</td>\n      <td>0.098698</td>\n      <td>0.363787</td>\n      <td>...</td>\n      <td>-0.018307</td>\n      <td>0.277838</td>\n      <td>-0.110474</td>\n      <td>0.066928</td>\n      <td>0.128539</td>\n      <td>-0.189115</td>\n      <td>0.133558</td>\n      <td>-0.021053</td>\n      <td>149.62</td>\n      <td>0</td>\n    </tr>\n    <tr>\n      <th>1</th>\n      <td>0.0</td>\n      <td>1.191857</td>\n      <td>0.266151</td>\n      <td>0.166480</td>\n      <td>0.448154</td>\n      <td>0.060018</td>\n      <td>-0.082361</td>\n      <td>-0.078803</td>\n      <td>0.085102</td>\n      <td>-0.255425</td>\n      <td>...</td>\n      <td>-0.225775</td>\n      <td>-0.638672</td>\n      <td>0.101288</td>\n      <td>-0.339846</td>\n      <td>0.167170</td>\n      <td>0.125895</td>\n      <td>-0.008983</td>\n      <td>0.014724</td>\n      <td>2.69</td>\n      <td>0</td>\n    </tr>\n    <tr>\n      <th>2</th>\n      <td>1.0</td>\n      <td>-1.358354</td>\n      <td>-1.340163</td>\n      <td>1.773209</td>\n      <td>0.379780</td>\n      <td>-0.503198</td>\n      <td>1.800499</td>\n      <td>0.791461</td>\n      <td>0.247676</td>\n      <td>-1.514654</td>\n      <td>...</td>\n      <td>0.247998</td>\n      <td>0.771679</td>\n      <td>0.909412</td>\n      <td>-0.689281</td>\n      <td>-0.327642</td>\n      <td>-0.139097</td>\n      <td>-0.055353</td>\n      <td>-0.059752</td>\n      <td>378.66</td>\n      <td>0</td>\n    </tr>\n    <tr>\n      <th>3</th>\n      <td>1.0</td>\n      <td>-0.966272</td>\n      <td>-0.185226</td>\n      <td>1.792993</td>\n      <td>-0.863291</td>\n      <td>-0.010309</td>\n      <td>1.247203</td>\n      <td>0.237609</td>\n      <td>0.377436</td>\n      <td>-1.387024</td>\n      <td>...</td>\n      <td>-0.108300</td>\n      <td>0.005274</td>\n      <td>-0.190321</td>\n      <td>-1.175575</td>\n      <td>0.647376</td>\n      <td>-0.221929</td>\n      <td>0.062723</td>\n      <td>0.061458</td>\n      <td>123.50</td>\n      <td>0</td>\n    </tr>\n    <tr>\n      <th>4</th>\n      <td>2.0</td>\n      <td>-1.158233</td>\n      <td>0.877737</td>\n      <td>1.548718</td>\n      <td>0.403034</td>\n      <td>-0.407193</td>\n      <td>0.095921</td>\n      <td>0.592941</td>\n      <td>-0.270533</td>\n      <td>0.817739</td>\n      <td>...</td>\n      <td>-0.009431</td>\n      <td>0.798278</td>\n      <td>-0.137458</td>\n      <td>0.141267</td>\n      <td>-0.206010</td>\n      <td>0.502292</td>\n      <td>0.219422</td>\n      <td>0.215153</td>\n      <td>69.99</td>\n      <td>0</td>\n    </tr>\n  </tbody>\n</table>\n<p>5 rows × 31 columns</p>\n</div>"
     },
     "execution_count": 22,
     "metadata": {},
     "output_type": "execute_result"
    }
   ],
   "source": [
    "df.head()"
   ],
   "metadata": {
    "collapsed": false
   }
  },
  {
   "cell_type": "markdown",
   "source": [
    "As noticed before, there is a massive imbalance in our data."
   ],
   "metadata": {
    "collapsed": false
   }
  },
  {
   "cell_type": "code",
   "execution_count": 23,
   "outputs": [],
   "source": [
    "normal = df[df.Class == 0].sample(frac=0.5, random_state=2020).reset_index(drop=True)\n",
    "fraud = df[df.Class == 1]"
   ],
   "metadata": {
    "collapsed": false
   }
  },
  {
   "cell_type": "code",
   "execution_count": 24,
   "outputs": [
    {
     "name": "stdout",
     "output_type": "stream",
     "text": [
      "Normal: (142158, 31)\n",
      "Anomaly: (492, 31)\n"
     ]
    }
   ],
   "source": [
    "print(f\"Normal: {normal.shape}\")\n",
    "print(f\"Anomaly: {fraud.shape}\")"
   ],
   "metadata": {
    "collapsed": false
   }
  },
  {
   "cell_type": "markdown",
   "source": [
    "As you can see, there is still a big disparity between the normal points\n",
    "and the anomalies. In the case of logistic regression, the model is still\n",
    "able to learn how to distinguish between the two, but in the case of neural\n",
    "networks, for example, this disparity means the model never really learns\n",
    "how to classify anomalies."
   ],
   "metadata": {
    "collapsed": false
   }
  },
  {
   "cell_type": "code",
   "execution_count": 25,
   "outputs": [],
   "source": [
    "normal_train, normal_test = train_test_split(normal, test_size = 0.2, random_state = 2020)\n",
    "anomaly_train, anomaly_test = train_test_split(fraud,test_size = 0.2, random_state = 2020)"
   ],
   "metadata": {
    "collapsed": false
   }
  },
  {
   "cell_type": "code",
   "execution_count": 26,
   "outputs": [
    {
     "data": {
      "text/plain": "(28432, 31)"
     },
     "execution_count": 26,
     "metadata": {},
     "output_type": "execute_result"
    }
   ],
   "source": [
    "normal_test.shape"
   ],
   "metadata": {
    "collapsed": false
   }
  },
  {
   "cell_type": "code",
   "execution_count": 27,
   "outputs": [],
   "source": [
    "normal_train, normal_validate = train_test_split(normal_train,test_size = 0.25, random_state = 2020)\n",
    "anomaly_train, anomaly_validate = train_test_split(anomaly_train, test_size = 0.25, random_state = 2020)"
   ],
   "metadata": {
    "collapsed": false
   }
  },
  {
   "cell_type": "markdown",
   "source": [
    "let's concatenate fraud and normal data in same dataframe"
   ],
   "metadata": {
    "collapsed": false
   }
  },
  {
   "cell_type": "code",
   "execution_count": 28,
   "outputs": [],
   "source": [
    "x_train = pd.concat((normal_train, anomaly_train))\n",
    "x_test = pd.concat((normal_test, anomaly_test))\n",
    "x_validate = pd.concat((normal_validate, anomaly_validate))"
   ],
   "metadata": {
    "collapsed": false
   }
  },
  {
   "cell_type": "code",
   "execution_count": 29,
   "outputs": [],
   "source": [
    "#define y_train, y_test, and y_validate\n",
    "y_train = np.array(x_train[\"Class\"])\n",
    "y_test = np.array(x_test[\"Class\"])\n",
    "y_validate = np.array(x_validate[\"Class\"])"
   ],
   "metadata": {
    "collapsed": false
   }
  },
  {
   "cell_type": "code",
   "execution_count": 30,
   "outputs": [],
   "source": [
    "x_train = x_train.drop(\"Class\", axis=1)\n",
    "x_test = x_test.drop(\"Class\", axis=1)\n",
    "x_validate = x_validate.drop(\"Class\", axis=1)"
   ],
   "metadata": {
    "collapsed": false
   }
  },
  {
   "cell_type": "markdown",
   "source": [
    "Let's now standardize data"
   ],
   "metadata": {
    "collapsed": false
   }
  },
  {
   "cell_type": "code",
   "execution_count": 31,
   "outputs": [],
   "source": [
    "scaler = StandardScaler()\n",
    "scaler.fit(pd.concat((normal, fraud)).drop(\"Class\", axis=1))\n",
    "x_train = scaler.transform(x_train)\n",
    "x_test = scaler.transform(x_test)\n",
    "x_validate = scaler.transform(x_validate)"
   ],
   "metadata": {
    "collapsed": false
   }
  },
  {
   "cell_type": "markdown",
   "source": [
    "As we have only 2 possible outcomes, so we use binray model which is Logistic regression"
   ],
   "metadata": {
    "collapsed": false
   }
  },
  {
   "cell_type": "code",
   "execution_count": 32,
   "outputs": [],
   "source": [
    "sk_model = LogisticRegression(random_state=None, max_iter=400, solver='newton-cg').fit(x_train, y_train)"
   ],
   "metadata": {
    "collapsed": false
   }
  },
  {
   "cell_type": "code",
   "execution_count": 33,
   "outputs": [],
   "source": [
    "eval_acc = sk_model.score(x_test, y_test)"
   ],
   "metadata": {
    "collapsed": false
   }
  },
  {
   "cell_type": "code",
   "execution_count": 34,
   "outputs": [
    {
     "data": {
      "text/plain": "0.9986681153832673"
     },
     "execution_count": 34,
     "metadata": {},
     "output_type": "execute_result"
    }
   ],
   "source": [
    "eval_acc"
   ],
   "metadata": {
    "collapsed": false
   }
  },
  {
   "cell_type": "code",
   "execution_count": 35,
   "outputs": [],
   "source": [
    "preds = sk_model.predict(x_test)\n",
    "auc_score = roc_auc_score(y_test, preds)"
   ],
   "metadata": {
    "collapsed": false
   }
  },
  {
   "cell_type": "code",
   "execution_count": 36,
   "outputs": [
    {
     "name": "stdout",
     "output_type": "stream",
     "text": [
      "Auc Score: 84.33%\n",
      "Eval Accuracy: 99.87%\n"
     ]
    }
   ],
   "source": [
    "print(f\"Auc Score: {auc_score:.2%}\")\n",
    "print(f\"Eval Accuracy: {eval_acc:.2%}\")"
   ],
   "metadata": {
    "collapsed": false
   }
  },
  {
   "cell_type": "code",
   "execution_count": 37,
   "outputs": [
    {
     "name": "stderr",
     "output_type": "stream",
     "text": [
      "C:\\Users\\Mohamed\\anaconda3\\lib\\site-packages\\sklearn\\utils\\deprecation.py:87: FutureWarning: Function plot_roc_curve is deprecated; Function :func:`plot_roc_curve` is deprecated in 1.0 and will be removed in 1.2. Use one of the class methods: :meth:`sklearn.metric.RocCurveDisplay.from_predictions` or :meth:`sklearn.metric.RocCurveDisplay.from_estimator`.\n",
      "  warnings.warn(msg, category=FutureWarning)\n"
     ]
    },
    {
     "data": {
      "text/plain": "<Figure size 1008x576 with 1 Axes>",
      "image/png": "[encoded data removed]"
     },
     "metadata": {
      "needs_background": "light"
     },
     "output_type": "display_data"
    }
   ],
   "source": [
    "roc_plot = plot_roc_curve(sk_model, x_test, y_test,\n",
    "                         name='Scikit-learn ROC Curve')"
   ],
   "metadata": {
    "collapsed": false
   }
  },
  {
   "cell_type": "code",
   "execution_count": 38,
   "outputs": [
    {
     "data": {
      "text/plain": "Text(0.5, 52.0, 'Predicted')"
     },
     "execution_count": 38,
     "metadata": {},
     "output_type": "execute_result"
    },
    {
     "data": {
      "text/plain": "<Figure size 1008x576 with 2 Axes>",
      "image/png": "[encoded data removed]"
     },
     "metadata": {
      "needs_background": "light"
     },
     "output_type": "display_data"
    }
   ],
   "source": [
    "conf_matrix = confusion_matrix(y_test, preds)\n",
    "ax = sns.heatmap(conf_matrix, annot=True,fmt='g')\n",
    "ax.invert_xaxis()\n",
    "ax.invert_yaxis()\n",
    "plt.ylabel('Actual')\n",
    "plt.xlabel('Predicted')"
   ],
   "metadata": {
    "collapsed": false
   }
  },
  {
   "cell_type": "markdown",
   "source": [
    "• True positives are values that the model predicts as positive that actually are positive. (top left (1,1) )\n",
    "• False negatives are values that the model predicts as negative that actually are positive.\n",
    "• False positives are values that the model predicts as positive that actually are negative.\n",
    "• True negatives are values that the model predicts as negative that actually are negative. (bottom right (0,0) )\n",
    "\n",
    "The sum of this row should equal the total number\n",
    "of anomalies in the test set: 99 anomalies. The model predicted about\n",
    "69.7% of the anomalies correctly (69/(69+30)) and predicted 99.98% of the\n",
    "normal points correctly (28427/(28427 + 5)) looking at the bottom row."
   ],
   "metadata": {
    "collapsed": false
   }
  },
  {
   "cell_type": "code",
   "execution_count": 39,
   "outputs": [],
   "source": [
    "anomaly_weights = [1, 5, 10, 15]"
   ],
   "metadata": {
    "collapsed": false
   }
  },
  {
   "cell_type": "code",
   "execution_count": 40,
   "outputs": [],
   "source": [
    "num_folds = 5\n",
    "kfold = KFold(n_splits=num_folds, shuffle=True,random_state=2020)"
   ],
   "metadata": {
    "collapsed": false
   }
  },
  {
   "cell_type": "markdown",
   "source": [
    "What this KFold() function does is that it splits the data passed in into\n",
    "num_folds different partitions. A single fold acts as a validation set at a\n",
    "time, while the rest of the folds are used for training. In this context, the\n",
    "“validation fold” is basically what the model will be evaluating on. It is\n",
    "called “validation” since it helps us get an idea of how the model is doing\n",
    "on data it has never seen before."
   ],
   "metadata": {
    "collapsed": false
   }
  },
  {
   "cell_type": "code",
   "execution_count": 41,
   "outputs": [
    {
     "name": "stdout",
     "output_type": "stream",
     "text": [
      "----------------------------------------\n",
      "fold 1\n",
      "Anomaly Weight: 1\n",
      "AUC: 0.8\n",
      "eval_acc: 0.9985982127212195\n",
      "----------------------------------------\n",
      "fold 2\n",
      "Anomaly Weight: 1\n",
      "AUC: 0.8568790049001132\n",
      "eval_acc: 0.998422712933754\n",
      "----------------------------------------\n",
      "fold 3\n",
      "Anomaly Weight: 1\n",
      "AUC: 0.8179179195189047\n",
      "eval_acc: 0.9980722046968104\n",
      "----------------------------------------\n",
      "fold 4\n",
      "Anomaly Weight: 1\n",
      "AUC: 0.8682452129973255\n",
      "eval_acc: 0.9987732211706976\n",
      "----------------------------------------\n",
      "fold 5\n",
      "Anomaly Weight: 1\n",
      "AUC: 0.8528532875621686\n",
      "eval_acc: 0.9989484752891693\n",
      "----------------------------------------\n",
      "fold 1\n",
      "Anomaly Weight: 5\n",
      "AUC: 0.8748241603657465\n",
      "eval_acc: 0.9987734361310671\n",
      "----------------------------------------\n",
      "fold 2\n",
      "Anomaly Weight: 5\n",
      "AUC: 0.9515893956527202\n",
      "eval_acc: 0.9980722046968104\n",
      "----------------------------------------\n",
      "fold 3\n",
      "Anomaly Weight: 5\n",
      "AUC: 0.9314663169342972\n",
      "eval_acc: 0.9987732211706976\n",
      "----------------------------------------\n",
      "fold 4\n",
      "Anomaly Weight: 5\n",
      "AUC: 0.8943851628367561\n",
      "eval_acc: 0.9985979670522257\n",
      "----------------------------------------\n",
      "fold 5\n",
      "Anomaly Weight: 5\n",
      "AUC: 0.8820013855427915\n",
      "eval_acc: 0.9985979670522257\n",
      "----------------------------------------\n",
      "fold 1\n",
      "Anomaly Weight: 10\n",
      "AUC: 0.9245604009143662\n",
      "eval_acc: 0.9985982127212195\n",
      "----------------------------------------\n",
      "fold 2\n",
      "Anomaly Weight: 10\n",
      "AUC: 0.9751350672194998\n",
      "eval_acc: 0.9977216964598669\n",
      "----------------------------------------\n",
      "fold 3\n",
      "Anomaly Weight: 10\n",
      "AUC: 0.9313783507133262\n",
      "eval_acc: 0.9985979670522257\n",
      "----------------------------------------\n",
      "fold 4\n",
      "Anomaly Weight: 10\n",
      "AUC: 0.8942972430196292\n",
      "eval_acc: 0.998422712933754\n",
      "----------------------------------------\n",
      "fold 5\n",
      "Anomaly Weight: 10\n",
      "AUC: 0.8820013855427915\n",
      "eval_acc: 0.9985979670522257\n",
      "----------------------------------------\n",
      "fold 1\n",
      "Anomaly Weight: 15\n",
      "AUC: 0.9242087216458591\n",
      "eval_acc: 0.9978973190818293\n",
      "----------------------------------------\n",
      "fold 2\n",
      "Anomaly Weight: 15\n",
      "AUC: 0.9749591657243373\n",
      "eval_acc: 0.9973711882229233\n",
      "----------------------------------------\n",
      "fold 3\n",
      "Anomaly Weight: 15\n",
      "AUC: 0.9313783507133262\n",
      "eval_acc: 0.9985979670522257\n",
      "----------------------------------------\n",
      "fold 4\n",
      "Anomaly Weight: 15\n",
      "AUC: 0.8938576439339954\n",
      "eval_acc: 0.997546442341395\n",
      "----------------------------------------\n",
      "fold 5\n",
      "Anomaly Weight: 15\n",
      "AUC: 0.8813861631838532\n",
      "eval_acc: 0.9973711882229233\n",
      "\n",
      "Averages: \n",
      "Accuracy:  0.9977568209842593\n",
      "AUC:  0.9211580090402742\n",
      "Best: \n",
      "Accuracy:  0.9985979670522257\n",
      "AUC:  0.9749591657243373\n"
     ]
    }
   ],
   "source": [
    "logs = []\n",
    "for f in range(len(anomaly_weights)):\n",
    "    fold = 1\n",
    "    accuracies = []\n",
    "    auc_scores= []\n",
    "    for train, test in kfold.split(x_validate, y_validate):\n",
    "        weight = anomaly_weights[f]\n",
    "        class_weights= {\n",
    "            0:1,\n",
    "            1: weight\n",
    "        }\n",
    "        sk_model = LogisticRegression(random_state=None,\n",
    "                                  max_iter=400,\n",
    "                                  solver='newton-cg',\n",
    "                                  class_weight=class_weights).fit(x_validate[train],y_validate[train])\n",
    "        for h in range(40): print('-', end=\"\")\n",
    "        print(f\"\\nfold {fold}\\nAnomaly Weight: {weight}\")\n",
    "\n",
    "        eval_acc = sk_model.score(x_validate[test],y_validate[test])\n",
    "        preds = sk_model.predict(x_validate[test])\n",
    "\n",
    "        try:\n",
    "            auc_score = roc_auc_score(y_validate[test], preds)\n",
    "        except:\n",
    "            auc_score = -1\n",
    "\n",
    "        print(\"AUC: {}\\neval_acc: {}\".format(auc_score, eval_acc))\n",
    "        accuracies.append(eval_acc)\n",
    "        auc_scores.append(auc_score)\n",
    "        log = [sk_model, x_validate[test], y_validate[test], preds]\n",
    "        logs.append(log)\n",
    "        fold = fold + 1\n",
    "print(\"\\nAverages: \")\n",
    "print(\"Accuracy: \", np.mean(accuracies))\n",
    "print(\"AUC: \", np.mean(auc_scores))\n",
    "print(\"Best: \")\n",
    "print(\"Accuracy: \", np.max(accuracies))\n",
    "print(\"AUC: \", np.max(auc_scores))"
   ],
   "metadata": {
    "collapsed": false
   }
  },
  {
   "cell_type": "markdown",
   "source": [
    "the best one is the second fold. since the anomaly weight was 10, so the second fold is at index 11"
   ],
   "metadata": {
    "collapsed": false
   }
  },
  {
   "cell_type": "code",
   "execution_count": 42,
   "outputs": [],
   "source": [
    "sk_model, x_val, y_val, preds = logs[11]"
   ],
   "metadata": {
    "collapsed": false
   }
  },
  {
   "cell_type": "code",
   "execution_count": 43,
   "outputs": [
    {
     "name": "stderr",
     "output_type": "stream",
     "text": [
      "C:\\Users\\Mohamed\\anaconda3\\lib\\site-packages\\sklearn\\utils\\deprecation.py:87: FutureWarning: Function plot_roc_curve is deprecated; Function :func:`plot_roc_curve` is deprecated in 1.0 and will be removed in 1.2. Use one of the class methods: :meth:`sklearn.metric.RocCurveDisplay.from_predictions` or :meth:`sklearn.metric.RocCurveDisplay.from_estimator`.\n",
      "  warnings.warn(msg, category=FutureWarning)\n"
     ]
    },
    {
     "data": {
      "text/plain": "<Figure size 1008x576 with 1 Axes>",
      "image/png": "[encoded data removed]"
     },
     "metadata": {
      "needs_background": "light"
     },
     "output_type": "display_data"
    }
   ],
   "source": [
    "roc_plot = plot_roc_curve(sk_model, x_val, y_val, name='Scikit-learn ROC Curve')"
   ],
   "metadata": {
    "collapsed": false
   }
  },
  {
   "cell_type": "code",
   "execution_count": 44,
   "outputs": [
    {
     "data": {
      "text/plain": "Text(0.5, 52.0, 'Predicted')"
     },
     "execution_count": 44,
     "metadata": {},
     "output_type": "execute_result"
    },
    {
     "data": {
      "text/plain": "<Figure size 1008x576 with 2 Axes>",
      "image/png": "[encoded data removed]"
     },
     "metadata": {
      "needs_background": "light"
     },
     "output_type": "display_data"
    }
   ],
   "source": [
    "conf_matrix = confusion_matrix(y_val, preds)\n",
    "ax = sns.heatmap(conf_matrix, annot=True,fmt='g')\n",
    "ax.invert_xaxis()\n",
    "ax.invert_yaxis()\n",
    "plt.ylabel('Actual')\n",
    "plt.xlabel('Predicted')"
   ],
   "metadata": {
    "collapsed": false
   }
  },
  {
   "cell_type": "markdown",
   "source": [
    "## Pyspark"
   ],
   "metadata": {
    "collapsed": false
   }
  },
  {
   "cell_type": "code",
   "execution_count": 45,
   "outputs": [
    {
     "name": "stdout",
     "output_type": "stream",
     "text": [
      "pyspark: 3.3.1\n",
      "matplotlib: 3.5.1\n",
      "seaborn: 0.11.2\n",
      "sklearn: 1.0.2\n"
     ]
    }
   ],
   "source": [
    "import pyspark #\n",
    "from pyspark.sql import SparkSession\n",
    "from pyspark import SparkConf, SparkContext\n",
    "from pyspark.sql.types import *\n",
    "from pyspark.ml.feature import VectorAssembler\n",
    "from pyspark.ml import Pipeline\n",
    "from pyspark.ml.classification import LogisticRegression as LogisticRegressionPySpark\n",
    "import pyspark.sql.functions as F\n",
    "import os\n",
    "import seaborn as sns\n",
    "import sklearn #\n",
    "from sklearn.metrics import confusion_matrix\n",
    "from sklearn.metrics import roc_auc_score\n",
    "import matplotlib #\n",
    "import matplotlib.pyplot as plt\n",
    "\n",
    "os.environ[\"SPARK_LOCAL_IP\"]='127.0.0.1'\n",
    "spark = SparkSession.builder.master(\"local[*]\").getOrCreate()\n",
    "spark.sparkContext._conf.getAll()\n",
    "print(\"pyspark: {}\".format(pyspark.__version__))\n",
    "print(\"matplotlib: {}\".format(matplotlib.__version__))\n",
    "print(\"seaborn: {}\".format(sns.__version__))\n",
    "print(\"sklearn: {}\".format(sklearn.__version__))"
   ],
   "metadata": {
    "collapsed": false
   }
  },
  {
   "cell_type": "code",
   "execution_count": 46,
   "outputs": [
    {
     "name": "stdout",
     "output_type": "stream",
     "text": [
      "['Time', 'V1', 'V2', 'V3', 'V4', 'V5', 'V6', 'V7', 'V8', 'V9', 'V10', 'V11', 'V12', 'V13', 'V14', 'V15', 'V16', 'V17', 'V18', 'V19', 'V20', 'V21', 'V22', 'V23', 'V24', 'V25', 'V26', 'V27', 'V28', 'Amount']\n"
     ]
    }
   ],
   "source": [
    "df = spark.read.csv('creditcard.csv', header = True, inferSchema = True)\n",
    "labelColumn = \"Class\"\n",
    "columns = df.columns\n",
    "numericCols = columns\n",
    "numericCols.remove(labelColumn)\n",
    "print(numericCols)"
   ],
   "metadata": {
    "collapsed": false
   }
  },
  {
   "cell_type": "code",
   "execution_count": 47,
   "outputs": [
    {
     "name": "stdout",
     "output_type": "stream",
     "text": [
      "+----+----------------+-------------------+----------------+-----------------+------------------+-------------------+-------------------+------------------+------------------+------------------+------------------+------------------+------------------+------------------+-----------------+------------------+------------------+------------------+------------------+-------------------+------------------+------------------+------------------+------------------+-----------------+------------------+--------------------+-------------------+------+-----+\n",
      "|Time|              V1|                 V2|              V3|               V4|                V5|                 V6|                 V7|                V8|                V9|               V10|               V11|               V12|               V13|               V14|              V15|               V16|               V17|               V18|               V19|                V20|               V21|               V22|               V23|               V24|              V25|               V26|                 V27|                V28|Amount|Class|\n",
      "+----+----------------+-------------------+----------------+-----------------+------------------+-------------------+-------------------+------------------+------------------+------------------+------------------+------------------+------------------+------------------+-----------------+------------------+------------------+------------------+------------------+-------------------+------------------+------------------+------------------+------------------+-----------------+------------------+--------------------+-------------------+------+-----+\n",
      "| 0.0|-1.3598071336738|-0.0727811733098497|2.53634673796914| 1.37815522427443|-0.338320769942518|  0.462387777762292|  0.239598554061257|0.0986979012610507| 0.363786969611213|0.0907941719789316|-0.551599533260813|-0.617800855762348|-0.991389847235408|-0.311169353699879| 1.46817697209427|-0.470400525259478| 0.207971241929242|0.0257905801985591| 0.403992960255733|  0.251412098239705|-0.018306777944153| 0.277837575558899|-0.110473910188767|0.0669280749146731|0.128539358273528|-0.189114843888824|   0.133558376740387|-0.0210530534538215|149.62|    0|\n",
      "| 0.0|1.19185711131486|   0.26615071205963|0.16648011335321|0.448154078460911|0.0600176492822243|-0.0823608088155687|-0.0788029833323113|0.0851016549148104|-0.255425128109186|-0.166974414004614|  1.61272666105479|  1.06523531137287|  0.48909501589608|-0.143772296441519|0.635558093258208| 0.463917041022171|-0.114804663102346|-0.183361270123994|-0.145783041325259|-0.0690831352230203|-0.225775248033138|-0.638671952771851| 0.101288021253234|-0.339846475529127|0.167170404418143| 0.125894532368176|-0.00898309914322813| 0.0147241691924927|  2.69|    0|\n",
      "+----+----------------+-------------------+----------------+-----------------+------------------+-------------------+-------------------+------------------+------------------+------------------+------------------+------------------+------------------+------------------+-----------------+------------------+------------------+------------------+------------------+-------------------+------------------+------------------+------------------+------------------+-----------------+------------------+--------------------+-------------------+------+-----+\n",
      "only showing top 2 rows\n",
      "\n"
     ]
    }
   ],
   "source": [
    "df.show(2)"
   ],
   "metadata": {
    "collapsed": false
   }
  },
  {
   "cell_type": "code",
   "execution_count": 48,
   "outputs": [
    {
     "data": {
      "text/plain": "   Time        V1        V2        V3        V4        V5        V6        V7  \\\n0   0.0 -1.359807 -0.072781  2.536347  1.378155 -0.338321  0.462388  0.239599   \n1   0.0  1.191857  0.266151  0.166480  0.448154  0.060018 -0.082361 -0.078803   \n2   1.0 -1.358354 -1.340163  1.773209  0.379780 -0.503198  1.800499  0.791461   \n3   1.0 -0.966272 -0.185226  1.792993 -0.863291 -0.010309  1.247203  0.237609   \n4   2.0 -1.158233  0.877737  1.548718  0.403034 -0.407193  0.095921  0.592941   \n\n         V8        V9  ...       V21       V22       V23       V24       V25  \\\n0  0.098698  0.363787  ... -0.018307  0.277838 -0.110474  0.066928  0.128539   \n1  0.085102 -0.255425  ... -0.225775 -0.638672  0.101288 -0.339846  0.167170   \n2  0.247676 -1.514654  ...  0.247998  0.771679  0.909412 -0.689281 -0.327642   \n3  0.377436 -1.387024  ... -0.108300  0.005274 -0.190321 -1.175575  0.647376   \n4 -0.270533  0.817739  ... -0.009431  0.798278 -0.137458  0.141267 -0.206010   \n\n        V26       V27       V28  Amount  Class  \n0 -0.189115  0.133558 -0.021053  149.62      0  \n1  0.125895 -0.008983  0.014724    2.69      0  \n2 -0.139097 -0.055353 -0.059752  378.66      0  \n3 -0.221929  0.062723  0.061458  123.50      0  \n4  0.502292  0.219422  0.215153   69.99      0  \n\n[5 rows x 31 columns]",
      "text/html": "<div>\n<style scoped>\n    .dataframe tbody tr th:only-of-type {\n        vertical-align: middle;\n    }\n\n    .dataframe tbody tr th {\n        vertical-align: top;\n    }\n\n    .dataframe thead th {\n        text-align: right;\n    }\n</style>\n<table border=\"1\" class=\"dataframe\">\n  <thead>\n    <tr style=\"text-align: right;\">\n      <th></th>\n      <th>Time</th>\n      <th>V1</th>\n      <th>V2</th>\n      <th>V3</th>\n      <th>V4</th>\n      <th>V5</th>\n      <th>V6</th>\n      <th>V7</th>\n      <th>V8</th>\n      <th>V9</th>\n      <th>...</th>\n      <th>V21</th>\n      <th>V22</th>\n      <th>V23</th>\n      <th>V24</th>\n      <th>V25</th>\n      <th>V26</th>\n      <th>V27</th>\n      <th>V28</th>\n      <th>Amount</th>\n      <th>Class</th>\n    </tr>\n  </thead>\n  <tbody>\n    <tr>\n      <th>0</th>\n      <td>0.0</td>\n      <td>-1.359807</td>\n      <td>-0.072781</td>\n      <td>2.536347</td>\n      <td>1.378155</td>\n      <td>-0.338321</td>\n      <td>0.462388</td>\n      <td>0.239599</td>\n      <td>0.098698</td>\n      <td>0.363787</td>\n      <td>...</td>\n      <td>-0.018307</td>\n      <td>0.277838</td>\n      <td>-0.110474</td>\n      <td>0.066928</td>\n      <td>0.128539</td>\n      <td>-0.189115</td>\n      <td>0.133558</td>\n      <td>-0.021053</td>\n      <td>149.62</td>\n      <td>0</td>\n    </tr>\n    <tr>\n      <th>1</th>\n      <td>0.0</td>\n      <td>1.191857</td>\n      <td>0.266151</td>\n      <td>0.166480</td>\n      <td>0.448154</td>\n      <td>0.060018</td>\n      <td>-0.082361</td>\n      <td>-0.078803</td>\n      <td>0.085102</td>\n      <td>-0.255425</td>\n      <td>...</td>\n      <td>-0.225775</td>\n      <td>-0.638672</td>\n      <td>0.101288</td>\n      <td>-0.339846</td>\n      <td>0.167170</td>\n      <td>0.125895</td>\n      <td>-0.008983</td>\n      <td>0.014724</td>\n      <td>2.69</td>\n      <td>0</td>\n    </tr>\n    <tr>\n      <th>2</th>\n      <td>1.0</td>\n      <td>-1.358354</td>\n      <td>-1.340163</td>\n      <td>1.773209</td>\n      <td>0.379780</td>\n      <td>-0.503198</td>\n      <td>1.800499</td>\n      <td>0.791461</td>\n      <td>0.247676</td>\n      <td>-1.514654</td>\n      <td>...</td>\n      <td>0.247998</td>\n      <td>0.771679</td>\n      <td>0.909412</td>\n      <td>-0.689281</td>\n      <td>-0.327642</td>\n      <td>-0.139097</td>\n      <td>-0.055353</td>\n      <td>-0.059752</td>\n      <td>378.66</td>\n      <td>0</td>\n    </tr>\n    <tr>\n      <th>3</th>\n      <td>1.0</td>\n      <td>-0.966272</td>\n      <td>-0.185226</td>\n      <td>1.792993</td>\n      <td>-0.863291</td>\n      <td>-0.010309</td>\n      <td>1.247203</td>\n      <td>0.237609</td>\n      <td>0.377436</td>\n      <td>-1.387024</td>\n      <td>...</td>\n      <td>-0.108300</td>\n      <td>0.005274</td>\n      <td>-0.190321</td>\n      <td>-1.175575</td>\n      <td>0.647376</td>\n      <td>-0.221929</td>\n      <td>0.062723</td>\n      <td>0.061458</td>\n      <td>123.50</td>\n      <td>0</td>\n    </tr>\n    <tr>\n      <th>4</th>\n      <td>2.0</td>\n      <td>-1.158233</td>\n      <td>0.877737</td>\n      <td>1.548718</td>\n      <td>0.403034</td>\n      <td>-0.407193</td>\n      <td>0.095921</td>\n      <td>0.592941</td>\n      <td>-0.270533</td>\n      <td>0.817739</td>\n      <td>...</td>\n      <td>-0.009431</td>\n      <td>0.798278</td>\n      <td>-0.137458</td>\n      <td>0.141267</td>\n      <td>-0.206010</td>\n      <td>0.502292</td>\n      <td>0.219422</td>\n      <td>0.215153</td>\n      <td>69.99</td>\n      <td>0</td>\n    </tr>\n  </tbody>\n</table>\n<p>5 rows × 31 columns</p>\n</div>"
     },
     "execution_count": 48,
     "metadata": {},
     "output_type": "execute_result"
    }
   ],
   "source": [
    "df.toPandas().head()"
   ],
   "metadata": {
    "collapsed": false
   }
  },
  {
   "cell_type": "code",
   "execution_count": 49,
   "outputs": [],
   "source": [
    "stages = []\n",
    "assemblerInputs = numericCols\n",
    "assembler = VectorAssembler(inputCols=assemblerInputs,\n",
    "                            outputCol=\"features\")\n",
    "stages += [assembler]\n",
    "dfFeatures = df.select(F.col(labelColumn).alias('label'),\n",
    "                       *numericCols )"
   ],
   "metadata": {
    "collapsed": false
   }
  },
  {
   "cell_type": "code",
   "execution_count": 50,
   "outputs": [
    {
     "data": {
      "text/plain": "        label      Time         V1         V2        V3        V4        V5  \\\n0           0       0.0  -1.359807  -0.072781  2.536347  1.378155 -0.338321   \n1           0       0.0   1.191857   0.266151  0.166480  0.448154  0.060018   \n2           0       1.0  -1.358354  -1.340163  1.773209  0.379780 -0.503198   \n3           0       1.0  -0.966272  -0.185226  1.792993 -0.863291 -0.010309   \n4           0       2.0  -1.158233   0.877737  1.548718  0.403034 -0.407193   \n...       ...       ...        ...        ...       ...       ...       ...   \n284802      0  172786.0 -11.881118  10.071785 -9.834783 -2.066656 -5.364473   \n284803      0  172787.0  -0.732789  -0.055080  2.035030 -0.738589  0.868229   \n284804      0  172788.0   1.919565  -0.301254 -3.249640 -0.557828  2.630515   \n284805      0  172788.0  -0.240440   0.530483  0.702510  0.689799 -0.377961   \n284806      0  172792.0  -0.533413  -0.189733  0.703337 -0.506271 -0.012546   \n\n              V6        V7        V8  ...       V20       V21       V22  \\\n0       0.462388  0.239599  0.098698  ...  0.251412 -0.018307  0.277838   \n1      -0.082361 -0.078803  0.085102  ... -0.069083 -0.225775 -0.638672   \n2       1.800499  0.791461  0.247676  ...  0.524980  0.247998  0.771679   \n3       1.247203  0.237609  0.377436  ... -0.208038 -0.108300  0.005274   \n4       0.095921  0.592941 -0.270533  ...  0.408542 -0.009431  0.798278   \n...          ...       ...       ...  ...       ...       ...       ...   \n284802 -2.606837 -4.918215  7.305334  ...  1.475829  0.213454  0.111864   \n284803  1.058415  0.024330  0.294869  ...  0.059616  0.214205  0.924384   \n284804  3.031260 -0.296827  0.708417  ...  0.001396  0.232045  0.578229   \n284805  0.623708 -0.686180  0.679145  ...  0.127434  0.265245  0.800049   \n284806 -0.649617  1.577006 -0.414650  ...  0.382948  0.261057  0.643078   \n\n             V23       V24       V25       V26       V27       V28  Amount  \n0      -0.110474  0.066928  0.128539 -0.189115  0.133558 -0.021053  149.62  \n1       0.101288 -0.339846  0.167170  0.125895 -0.008983  0.014724    2.69  \n2       0.909412 -0.689281 -0.327642 -0.139097 -0.055353 -0.059752  378.66  \n3      -0.190321 -1.175575  0.647376 -0.221929  0.062723  0.061458  123.50  \n4      -0.137458  0.141267 -0.206010  0.502292  0.219422  0.215153   69.99  \n...          ...       ...       ...       ...       ...       ...     ...  \n284802  1.014480 -0.509348  1.436807  0.250034  0.943651  0.823731    0.77  \n284803  0.012463 -1.016226 -0.606624 -0.395255  0.068472 -0.053527   24.79  \n284804 -0.037501  0.640134  0.265745 -0.087371  0.004455 -0.026561   67.88  \n284805 -0.163298  0.123205 -0.569159  0.546668  0.108821  0.104533   10.00  \n284806  0.376777  0.008797 -0.473649 -0.818267 -0.002415  0.013649  217.00  \n\n[284807 rows x 31 columns]",
      "text/html": "<div>\n<style scoped>\n    .dataframe tbody tr th:only-of-type {\n        vertical-align: middle;\n    }\n\n    .dataframe tbody tr th {\n        vertical-align: top;\n    }\n\n    .dataframe thead th {\n        text-align: right;\n    }\n</style>\n<table border=\"1\" class=\"dataframe\">\n  <thead>\n    <tr style=\"text-align: right;\">\n      <th></th>\n      <th>label</th>\n      <th>Time</th>\n      <th>V1</th>\n      <th>V2</th>\n      <th>V3</th>\n      <th>V4</th>\n      <th>V5</th>\n      <th>V6</th>\n      <th>V7</th>\n      <th>V8</th>\n      <th>...</th>\n      <th>V20</th>\n      <th>V21</th>\n      <th>V22</th>\n      <th>V23</th>\n      <th>V24</th>\n      <th>V25</th>\n      <th>V26</th>\n      <th>V27</th>\n      <th>V28</th>\n      <th>Amount</th>\n    </tr>\n  </thead>\n  <tbody>\n    <tr>\n      <th>0</th>\n      <td>0</td>\n      <td>0.0</td>\n      <td>-1.359807</td>\n      <td>-0.072781</td>\n      <td>2.536347</td>\n      <td>1.378155</td>\n      <td>-0.338321</td>\n      <td>0.462388</td>\n      <td>0.239599</td>\n      <td>0.098698</td>\n      <td>...</td>\n      <td>0.251412</td>\n      <td>-0.018307</td>\n      <td>0.277838</td>\n      <td>-0.110474</td>\n      <td>0.066928</td>\n      <td>0.128539</td>\n      <td>-0.189115</td>\n      <td>0.133558</td>\n      <td>-0.021053</td>\n      <td>149.62</td>\n    </tr>\n    <tr>\n      <th>1</th>\n      <td>0</td>\n      <td>0.0</td>\n      <td>1.191857</td>\n      <td>0.266151</td>\n      <td>0.166480</td>\n      <td>0.448154</td>\n      <td>0.060018</td>\n      <td>-0.082361</td>\n      <td>-0.078803</td>\n      <td>0.085102</td>\n      <td>...</td>\n      <td>-0.069083</td>\n      <td>-0.225775</td>\n      <td>-0.638672</td>\n      <td>0.101288</td>\n      <td>-0.339846</td>\n      <td>0.167170</td>\n      <td>0.125895</td>\n      <td>-0.008983</td>\n      <td>0.014724</td>\n      <td>2.69</td>\n    </tr>\n    <tr>\n      <th>2</th>\n      <td>0</td>\n      <td>1.0</td>\n      <td>-1.358354</td>\n      <td>-1.340163</td>\n      <td>1.773209</td>\n      <td>0.379780</td>\n      <td>-0.503198</td>\n      <td>1.800499</td>\n      <td>0.791461</td>\n      <td>0.247676</td>\n      <td>...</td>\n      <td>0.524980</td>\n      <td>0.247998</td>\n      <td>0.771679</td>\n      <td>0.909412</td>\n      <td>-0.689281</td>\n      <td>-0.327642</td>\n      <td>-0.139097</td>\n      <td>-0.055353</td>\n      <td>-0.059752</td>\n      <td>378.66</td>\n    </tr>\n    <tr>\n      <th>3</th>\n      <td>0</td>\n      <td>1.0</td>\n      <td>-0.966272</td>\n      <td>-0.185226</td>\n      <td>1.792993</td>\n      <td>-0.863291</td>\n      <td>-0.010309</td>\n      <td>1.247203</td>\n      <td>0.237609</td>\n      <td>0.377436</td>\n      <td>...</td>\n      <td>-0.208038</td>\n      <td>-0.108300</td>\n      <td>0.005274</td>\n      <td>-0.190321</td>\n      <td>-1.175575</td>\n      <td>0.647376</td>\n      <td>-0.221929</td>\n      <td>0.062723</td>\n      <td>0.061458</td>\n      <td>123.50</td>\n    </tr>\n    <tr>\n      <th>4</th>\n      <td>0</td>\n      <td>2.0</td>\n      <td>-1.158233</td>\n      <td>0.877737</td>\n      <td>1.548718</td>\n      <td>0.403034</td>\n      <td>-0.407193</td>\n      <td>0.095921</td>\n      <td>0.592941</td>\n      <td>-0.270533</td>\n      <td>...</td>\n      <td>0.408542</td>\n      <td>-0.009431</td>\n      <td>0.798278</td>\n      <td>-0.137458</td>\n      <td>0.141267</td>\n      <td>-0.206010</td>\n      <td>0.502292</td>\n      <td>0.219422</td>\n      <td>0.215153</td>\n      <td>69.99</td>\n    </tr>\n    <tr>\n      <th>...</th>\n      <td>...</td>\n      <td>...</td>\n      <td>...</td>\n      <td>...</td>\n      <td>...</td>\n      <td>...</td>\n      <td>...</td>\n      <td>...</td>\n      <td>...</td>\n      <td>...</td>\n      <td>...</td>\n      <td>...</td>\n      <td>...</td>\n      <td>...</td>\n      <td>...</td>\n      <td>...</td>\n      <td>...</td>\n      <td>...</td>\n      <td>...</td>\n      <td>...</td>\n      <td>...</td>\n    </tr>\n    <tr>\n      <th>284802</th>\n      <td>0</td>\n      <td>172786.0</td>\n      <td>-11.881118</td>\n      <td>10.071785</td>\n      <td>-9.834783</td>\n      <td>-2.066656</td>\n      <td>-5.364473</td>\n      <td>-2.606837</td>\n      <td>-4.918215</td>\n      <td>7.305334</td>\n      <td>...</td>\n      <td>1.475829</td>\n      <td>0.213454</td>\n      <td>0.111864</td>\n      <td>1.014480</td>\n      <td>-0.509348</td>\n      <td>1.436807</td>\n      <td>0.250034</td>\n      <td>0.943651</td>\n      <td>0.823731</td>\n      <td>0.77</td>\n    </tr>\n    <tr>\n      <th>284803</th>\n      <td>0</td>\n      <td>172787.0</td>\n      <td>-0.732789</td>\n      <td>-0.055080</td>\n      <td>2.035030</td>\n      <td>-0.738589</td>\n      <td>0.868229</td>\n      <td>1.058415</td>\n      <td>0.024330</td>\n      <td>0.294869</td>\n      <td>...</td>\n      <td>0.059616</td>\n      <td>0.214205</td>\n      <td>0.924384</td>\n      <td>0.012463</td>\n      <td>-1.016226</td>\n      <td>-0.606624</td>\n      <td>-0.395255</td>\n      <td>0.068472</td>\n      <td>-0.053527</td>\n      <td>24.79</td>\n    </tr>\n    <tr>\n      <th>284804</th>\n      <td>0</td>\n      <td>172788.0</td>\n      <td>1.919565</td>\n      <td>-0.301254</td>\n      <td>-3.249640</td>\n      <td>-0.557828</td>\n      <td>2.630515</td>\n      <td>3.031260</td>\n      <td>-0.296827</td>\n      <td>0.708417</td>\n      <td>...</td>\n      <td>0.001396</td>\n      <td>0.232045</td>\n      <td>0.578229</td>\n      <td>-0.037501</td>\n      <td>0.640134</td>\n      <td>0.265745</td>\n      <td>-0.087371</td>\n      <td>0.004455</td>\n      <td>-0.026561</td>\n      <td>67.88</td>\n    </tr>\n    <tr>\n      <th>284805</th>\n      <td>0</td>\n      <td>172788.0</td>\n      <td>-0.240440</td>\n      <td>0.530483</td>\n      <td>0.702510</td>\n      <td>0.689799</td>\n      <td>-0.377961</td>\n      <td>0.623708</td>\n      <td>-0.686180</td>\n      <td>0.679145</td>\n      <td>...</td>\n      <td>0.127434</td>\n      <td>0.265245</td>\n      <td>0.800049</td>\n      <td>-0.163298</td>\n      <td>0.123205</td>\n      <td>-0.569159</td>\n      <td>0.546668</td>\n      <td>0.108821</td>\n      <td>0.104533</td>\n      <td>10.00</td>\n    </tr>\n    <tr>\n      <th>284806</th>\n      <td>0</td>\n      <td>172792.0</td>\n      <td>-0.533413</td>\n      <td>-0.189733</td>\n      <td>0.703337</td>\n      <td>-0.506271</td>\n      <td>-0.012546</td>\n      <td>-0.649617</td>\n      <td>1.577006</td>\n      <td>-0.414650</td>\n      <td>...</td>\n      <td>0.382948</td>\n      <td>0.261057</td>\n      <td>0.643078</td>\n      <td>0.376777</td>\n      <td>0.008797</td>\n      <td>-0.473649</td>\n      <td>-0.818267</td>\n      <td>-0.002415</td>\n      <td>0.013649</td>\n      <td>217.00</td>\n    </tr>\n  </tbody>\n</table>\n<p>284807 rows × 31 columns</p>\n</div>"
     },
     "execution_count": 50,
     "metadata": {},
     "output_type": "execute_result"
    }
   ],
   "source": [
    "dfFeatures.toPandas()"
   ],
   "metadata": {
    "collapsed": false
   }
  },
  {
   "cell_type": "code",
   "execution_count": 51,
   "outputs": [],
   "source": [
    "normal = dfFeatures.filter(\"Class == 0\").sample(withReplacement=False, fraction=0.5, seed=2020)\n",
    "anomaly = dfFeatures.filter(\"Class == 1\")\n",
    "normal_train, normal_test = normal.randomSplit([0.8, 0.2],\n",
    "                                               seed = 2020)\n",
    "anomaly_train, anomaly_test = anomaly.randomSplit([0.8, 0.2],\n",
    "                                                  seed = 2020)"
   ],
   "metadata": {
    "collapsed": false
   }
  },
  {
   "cell_type": "code",
   "execution_count": 52,
   "outputs": [],
   "source": [
    "train = normal_train.union(anomaly_train)\n",
    "test = normal_test.union(anomaly_test)"
   ],
   "metadata": {
    "collapsed": false
   }
  },
  {
   "cell_type": "code",
   "execution_count": 53,
   "outputs": [
    {
     "name": "stdout",
     "output_type": "stream",
     "text": [
      "Training Dataset Count:  114389\n",
      "Test Dataset Count:  28459\n"
     ]
    }
   ],
   "source": [
    "pipeline = Pipeline(stages = stages)\n",
    "pipelineModel = pipeline.fit(dfFeatures)\n",
    "train = pipelineModel.transform(train)\n",
    "test = pipelineModel.transform(test)\n",
    "selectedCols = ['label', 'features'] + numericCols\n",
    "train = train.select(selectedCols)\n",
    "test = test.select(selectedCols)\n",
    "print(\"Training Dataset Count: \", train.count())\n",
    "print(\"Test Dataset Count: \", test.count())"
   ],
   "metadata": {
    "collapsed": false
   }
  },
  {
   "cell_type": "code",
   "execution_count": 54,
   "outputs": [],
   "source": [
    "lr = LogisticRegressionPySpark(featuresCol = 'features',\n",
    "                               labelCol = 'label', maxIter=10)\n",
    "lrModel = lr.fit(train)\n",
    "trainingSummary = lrModel.summary\n",
    "pyspark_auc_score = trainingSummary.areaUnderROC"
   ],
   "metadata": {
    "collapsed": false
   }
  },
  {
   "cell_type": "code",
   "execution_count": 55,
   "outputs": [
    {
     "name": "stdout",
     "output_type": "stream",
     "text": [
      "AUC Score: 94.844%\n",
      "PySpark AUC Score: 98.427%\n",
      "Accuracy Score: 99.916%\n"
     ]
    }
   ],
   "source": [
    "predictions = lrModel.transform(test)\n",
    "y_true = predictions.select(['label']).collect()\n",
    "y_pred = predictions.select(['prediction']).collect()\n",
    "evaluations = lrModel.evaluate(test)\n",
    "accuracy = evaluations.accuracy\n",
    "#display the matrics\n",
    "print(f\"AUC Score: {roc_auc_score(y_pred, y_true):.3%}\")\n",
    "print(f\"PySpark AUC Score: {pyspark_auc_score:.3%}\")\n",
    "print(f\"Accuracy Score: {accuracy:.3%}\")"
   ],
   "metadata": {
    "collapsed": false
   }
  },
  {
   "cell_type": "code",
   "execution_count": 56,
   "outputs": [
    {
     "data": {
      "text/plain": "[<matplotlib.lines.Line2D at 0x26146194520>]"
     },
     "execution_count": 56,
     "metadata": {},
     "output_type": "execute_result"
    },
    {
     "data": {
      "text/plain": "<Figure size 1008x576 with 1 Axes>",
      "image/png": "[encoded data removed]"
     },
     "metadata": {
      "needs_background": "light"
     },
     "output_type": "display_data"
    }
   ],
   "source": [
    "pyspark_roc = trainingSummary.roc.toPandas()\n",
    "plt.xlabel('False Positive Rate')\n",
    "plt.ylabel('True Positive Rate')\n",
    "plt.title('PySpark ROC Curve')\n",
    "plt.plot(pyspark_roc['FPR'],pyspark_roc['TPR'])"
   ],
   "metadata": {
    "collapsed": false
   }
  },
  {
   "cell_type": "code",
   "execution_count": 57,
   "outputs": [
    {
     "data": {
      "text/plain": "Text(0.5, 52.0, 'Predicted')"
     },
     "execution_count": 57,
     "metadata": {},
     "output_type": "execute_result"
    },
    {
     "data": {
      "text/plain": "<Figure size 1008x576 with 2 Axes>",
      "image/png": "[encoded data removed]"
     },
     "metadata": {
      "needs_background": "light"
     },
     "output_type": "display_data"
    }
   ],
   "source": [
    "conf_matrix = confusion_matrix(y_true, y_pred)\n",
    "ax = sns.heatmap(conf_matrix, annot=True,fmt='g')\n",
    "ax.invert_xaxis()\n",
    "ax.invert_yaxis()\n",
    "plt.ylabel('Actual')\n",
    "plt.xlabel('Predicted')"
   ],
   "metadata": {
    "collapsed": false
   }
  },
  {
   "cell_type": "markdown",
   "source": [
    "# MLFlow"
   ],
   "metadata": {
    "collapsed": false
   }
  },
  {
   "cell_type": "code",
   "execution_count": 58,
   "outputs": [
    {
     "name": "stdout",
     "output_type": "stream",
     "text": [
      "Numpy: 1.21.5\n",
      "Pandas: 1.4.4\n",
      "matplotlib: 3.5.1\n",
      "seaborn: 0.11.2\n",
      "Scikit-Learn: 1.0.2\n",
      "MLFlow: 2.1.1\n"
     ]
    }
   ],
   "source": [
    "import numpy as np\n",
    "import pandas as pd\n",
    "import matplotlib #\n",
    "import matplotlib.pyplot as plt\n",
    "import seaborn as sns\n",
    "import sklearn #\n",
    "from sklearn.linear_model import LogisticRegression\n",
    "from sklearn.model_selection import train_test_split\n",
    "from sklearn.preprocessing import StandardScaler\n",
    "from sklearn.metrics import roc_auc_score, plot_roc_curve, confusion_matrix\n",
    "from sklearn.model_selection import KFold\n",
    "import mlflow\n",
    "import mlflow.sklearn\n",
    "print(\"Numpy: {}\".format(np.__version__))\n",
    "print(\"Pandas: {}\".format(pd.__version__))\n",
    "print(\"matplotlib: {}\".format(matplotlib.__version__))\n",
    "print(\"seaborn: {}\".format(sns.__version__))\n",
    "print(\"Scikit-Learn: {}\".format(sklearn.__version__))\n",
    "print(\"MLFlow: {}\".format(mlflow.__version__))"
   ],
   "metadata": {
    "collapsed": false
   }
  },
  {
   "cell_type": "code",
   "execution_count": 59,
   "outputs": [
    {
     "data": {
      "text/plain": "         V1        V2        V3        V4        V5        V6        V7  \\\n0 -1.359807 -0.072781  2.536347  1.378155 -0.338321  0.462388  0.239599   \n1  1.191857  0.266151  0.166480  0.448154  0.060018 -0.082361 -0.078803   \n2 -1.358354 -1.340163  1.773209  0.379780 -0.503198  1.800499  0.791461   \n3 -0.966272 -0.185226  1.792993 -0.863291 -0.010309  1.247203  0.237609   \n4 -1.158233  0.877737  1.548718  0.403034 -0.407193  0.095921  0.592941   \n\n         V8        V9       V10  ...       V21       V22       V23       V24  \\\n0  0.098698  0.363787  0.090794  ... -0.018307  0.277838 -0.110474  0.066928   \n1  0.085102 -0.255425 -0.166974  ... -0.225775 -0.638672  0.101288 -0.339846   \n2  0.247676 -1.514654  0.207643  ...  0.247998  0.771679  0.909412 -0.689281   \n3  0.377436 -1.387024 -0.054952  ... -0.108300  0.005274 -0.190321 -1.175575   \n4 -0.270533  0.817739  0.753074  ... -0.009431  0.798278 -0.137458  0.141267   \n\n        V25       V26       V27       V28  Amount  Class  \n0  0.128539 -0.189115  0.133558 -0.021053  149.62      0  \n1  0.167170  0.125895 -0.008983  0.014724    2.69      0  \n2 -0.327642 -0.139097 -0.055353 -0.059752  378.66      0  \n3  0.647376 -0.221929  0.062723  0.061458  123.50      0  \n4 -0.206010  0.502292  0.219422  0.215153   69.99      0  \n\n[5 rows x 30 columns]",
      "text/html": "<div>\n<style scoped>\n    .dataframe tbody tr th:only-of-type {\n        vertical-align: middle;\n    }\n\n    .dataframe tbody tr th {\n        vertical-align: top;\n    }\n\n    .dataframe thead th {\n        text-align: right;\n    }\n</style>\n<table border=\"1\" class=\"dataframe\">\n  <thead>\n    <tr style=\"text-align: right;\">\n      <th></th>\n      <th>V1</th>\n      <th>V2</th>\n      <th>V3</th>\n      <th>V4</th>\n      <th>V5</th>\n      <th>V6</th>\n      <th>V7</th>\n      <th>V8</th>\n      <th>V9</th>\n      <th>V10</th>\n      <th>...</th>\n      <th>V21</th>\n      <th>V22</th>\n      <th>V23</th>\n      <th>V24</th>\n      <th>V25</th>\n      <th>V26</th>\n      <th>V27</th>\n      <th>V28</th>\n      <th>Amount</th>\n      <th>Class</th>\n    </tr>\n  </thead>\n  <tbody>\n    <tr>\n      <th>0</th>\n      <td>-1.359807</td>\n      <td>-0.072781</td>\n      <td>2.536347</td>\n      <td>1.378155</td>\n      <td>-0.338321</td>\n      <td>0.462388</td>\n      <td>0.239599</td>\n      <td>0.098698</td>\n      <td>0.363787</td>\n      <td>0.090794</td>\n      <td>...</td>\n      <td>-0.018307</td>\n      <td>0.277838</td>\n      <td>-0.110474</td>\n      <td>0.066928</td>\n      <td>0.128539</td>\n      <td>-0.189115</td>\n      <td>0.133558</td>\n      <td>-0.021053</td>\n      <td>149.62</td>\n      <td>0</td>\n    </tr>\n    <tr>\n      <th>1</th>\n      <td>1.191857</td>\n      <td>0.266151</td>\n      <td>0.166480</td>\n      <td>0.448154</td>\n      <td>0.060018</td>\n      <td>-0.082361</td>\n      <td>-0.078803</td>\n      <td>0.085102</td>\n      <td>-0.255425</td>\n      <td>-0.166974</td>\n      <td>...</td>\n      <td>-0.225775</td>\n      <td>-0.638672</td>\n      <td>0.101288</td>\n      <td>-0.339846</td>\n      <td>0.167170</td>\n      <td>0.125895</td>\n      <td>-0.008983</td>\n      <td>0.014724</td>\n      <td>2.69</td>\n      <td>0</td>\n    </tr>\n    <tr>\n      <th>2</th>\n      <td>-1.358354</td>\n      <td>-1.340163</td>\n      <td>1.773209</td>\n      <td>0.379780</td>\n      <td>-0.503198</td>\n      <td>1.800499</td>\n      <td>0.791461</td>\n      <td>0.247676</td>\n      <td>-1.514654</td>\n      <td>0.207643</td>\n      <td>...</td>\n      <td>0.247998</td>\n      <td>0.771679</td>\n      <td>0.909412</td>\n      <td>-0.689281</td>\n      <td>-0.327642</td>\n      <td>-0.139097</td>\n      <td>-0.055353</td>\n      <td>-0.059752</td>\n      <td>378.66</td>\n      <td>0</td>\n    </tr>\n    <tr>\n      <th>3</th>\n      <td>-0.966272</td>\n      <td>-0.185226</td>\n      <td>1.792993</td>\n      <td>-0.863291</td>\n      <td>-0.010309</td>\n      <td>1.247203</td>\n      <td>0.237609</td>\n      <td>0.377436</td>\n      <td>-1.387024</td>\n      <td>-0.054952</td>\n      <td>...</td>\n      <td>-0.108300</td>\n      <td>0.005274</td>\n      <td>-0.190321</td>\n      <td>-1.175575</td>\n      <td>0.647376</td>\n      <td>-0.221929</td>\n      <td>0.062723</td>\n      <td>0.061458</td>\n      <td>123.50</td>\n      <td>0</td>\n    </tr>\n    <tr>\n      <th>4</th>\n      <td>-1.158233</td>\n      <td>0.877737</td>\n      <td>1.548718</td>\n      <td>0.403034</td>\n      <td>-0.407193</td>\n      <td>0.095921</td>\n      <td>0.592941</td>\n      <td>-0.270533</td>\n      <td>0.817739</td>\n      <td>0.753074</td>\n      <td>...</td>\n      <td>-0.009431</td>\n      <td>0.798278</td>\n      <td>-0.137458</td>\n      <td>0.141267</td>\n      <td>-0.206010</td>\n      <td>0.502292</td>\n      <td>0.219422</td>\n      <td>0.215153</td>\n      <td>69.99</td>\n      <td>0</td>\n    </tr>\n  </tbody>\n</table>\n<p>5 rows × 30 columns</p>\n</div>"
     },
     "execution_count": 59,
     "metadata": {},
     "output_type": "execute_result"
    }
   ],
   "source": [
    "df = pd.read_csv('creditcard.csv')\n",
    "df = df.drop(\"Time\", axis=1)\n",
    "df.head()"
   ],
   "metadata": {
    "collapsed": false
   }
  },
  {
   "cell_type": "code",
   "execution_count": 60,
   "outputs": [
    {
     "name": "stdout",
     "output_type": "stream",
     "text": [
      "Normal: (142158, 30)\n",
      "Anomaly: (492, 31)\n"
     ]
    }
   ],
   "source": [
    "normal = df[df.Class == 0].sample(frac=0.5,\n",
    "                                  random_state=2020).reset_index(drop=True)\n",
    "anomaly = df[df.Class == 1]\n",
    "print(f\"Normal: {normal.shape}\")\n",
    "print(f\"Anomaly: {fraud_df.shape}\")"
   ],
   "metadata": {
    "collapsed": false
   }
  },
  {
   "cell_type": "code",
   "execution_count": 61,
   "outputs": [],
   "source": [
    "normal_train, normal_test = train_test_split(normal,\n",
    "                                             test_size = 0.2, random_state = 2020)\n",
    "anomaly_train, anomaly_test = train_test_split(anomaly, test_size = 0.2, random_state = 2020)\n",
    "normal_train, normal_validate = train_test_split(normal_train,\n",
    "                                                 test_size = 0.25, random_state = 2020)\n",
    "anomaly_train, anomaly_validate = train_test_split(anomaly_train, test_size = 0.25, random_state = 2020)"
   ],
   "metadata": {
    "collapsed": false
   }
  },
  {
   "cell_type": "code",
   "execution_count": 81,
   "outputs": [],
   "source": [
    "x_train = pd.concat((normal_train, anomaly_train))\n",
    "x_test = pd.concat((normal_test, anomaly_test))\n",
    "x_validate = pd.concat((normal_validate, anomaly_validate))\n",
    "\n",
    "y_train = np.array(x_train[\"Class\"])\n",
    "y_test = np.array(x_test[\"Class\"])\n",
    "y_validate = np.array(x_validate[\"Class\"])\n",
    "\n",
    "x_train = x_train.drop(\"Class\", axis=1)\n",
    "x_test = x_test.drop(\"Class\", axis=1)\n",
    "x_validate = x_validate.drop(\"Class\", axis=1)"
   ],
   "metadata": {
    "collapsed": false
   }
  },
  {
   "cell_type": "code",
   "execution_count": 82,
   "outputs": [
    {
     "name": "stdout",
     "output_type": "stream",
     "text": [
      "Training sets:\n",
      "x_train: (85588, 29) \n",
      "y_train:(85588,)\n",
      "\n",
      "Testing sets:\n",
      "x_test: (28531, 29) \n",
      "y_test:(28531,)\n",
      "\n",
      "Validation sets:\n",
      "x_validate: (28531, 29) \n",
      "y_validate: (28531,)\n"
     ]
    }
   ],
   "source": [
    "print(\"Training sets:\\nx_train: {} \\ny_train:{}\".format(x_train.shape, y_train.shape))\n",
    "print(\"\\nTesting sets:\\nx_test: {} \\ny_test:{}\".format(x_test.shape, y_test.shape))\n",
    "print(\"\\nValidation sets:\\nx_validate: {} \\ny_validate: {}\".format(x_validate.shape, y_validate.shape))"
   ],
   "metadata": {
    "collapsed": false
   }
  },
  {
   "cell_type": "code",
   "execution_count": 83,
   "outputs": [],
   "source": [
    "scaler = StandardScaler()\n",
    "scaler.fit(pd.concat((normal, anomaly)).drop(\"Class\", axis=1))\n",
    "x_train = scaler.transform(x_train)\n",
    "x_test = scaler.transform(x_test)\n",
    "x_validate = scaler.transform(x_validate)"
   ],
   "metadata": {
    "collapsed": false
   }
  },
  {
   "cell_type": "markdown",
   "source": [
    "Now we are adding mlflow.log_metric to keep track the metrics at every run"
   ],
   "metadata": {
    "collapsed": false
   }
  },
  {
   "cell_type": "code",
   "execution_count": 84,
   "outputs": [],
   "source": [
    "def train(sk_model, x_train, y_train):\n",
    "    sk_model = sk_model.fit(x_train, y_train)\n",
    "    train_acc = sk_model.score(x_train, y_train)\n",
    "    mlflow.log_metric(\"train_acc\", train_acc)\n",
    "\n",
    "    print(f\"Train Accuracy: {train_acc:.3%}\")"
   ],
   "metadata": {
    "collapsed": false
   }
  },
  {
   "cell_type": "code",
   "execution_count": 85,
   "outputs": [],
   "source": [
    "def evaluate(sk_model, x_test, y_test):\n",
    "    \"\"\"\n",
    "    A function to calculate the evaluation metrics for the AUC score and accuracy\n",
    "    :param sk_model:\n",
    "    :param x_test:\n",
    "    :param y_test:\n",
    "    :return:\n",
    "    \"\"\"\n",
    "    eval_acc = sk_model.score(x_test, y_test)\n",
    "    preds = sk_model.predict(x_test)\n",
    "    auc_score = roc_auc_score(y_test, preds)\n",
    "    mlflow.log_metric(\"eval_acc\", eval_acc)\n",
    "    mlflow.log_metric(\"auc_score\", auc_score)\n",
    "    print(f\"Auc Score: {auc_score:.3%}\")\n",
    "    print(f\"Eval Accuracy: {eval_acc:.3%}\")\n",
    "    roc_plot = plot_roc_curve(sk_model, x_test, y_test,\n",
    "                              name='Scikit-learn ROC Curve')\n",
    "    plt.savefig(\"sklearn_roc_plot.png\")\n",
    "    plt.show()\n",
    "    plt.clf()\n",
    "    conf_matrix = confusion_matrix(y_test, preds)\n",
    "    ax = sns.heatmap(conf_matrix, annot=True,fmt='g')\n",
    "    ax.invert_xaxis()\n",
    "    ax.invert_yaxis()\n",
    "    plt.ylabel('Actual')\n",
    "    plt.xlabel('Predicted')\n",
    "    plt.title(\"Confusion Matrix\")\n",
    "    plt.savefig(\"sklearn_conf_matrix.png\")\n",
    "    mlflow.log_artifact(\"sklearn_roc_plot.png\")\n",
    "    mlflow.log_artifact(\"sklearn_conf_matrix.png\")"
   ],
   "metadata": {
    "collapsed": false
   }
  },
  {
   "cell_type": "code",
   "execution_count": 86,
   "outputs": [],
   "source": [
    "mlflow.log_metric(\"eval_acc\", eval_acc)\n",
    "mlflow.log_metric(\"auc_score\", auc_score)"
   ],
   "metadata": {
    "collapsed": false
   }
  },
  {
   "cell_type": "code",
   "execution_count": 87,
   "outputs": [],
   "source": [
    "mlflow.log_artifact(\"sklearn_roc_plot.png\")\n",
    "mlflow.log_artifact(\"sklearn_conf_matrix.png\")"
   ],
   "metadata": {
    "collapsed": false
   }
  },
  {
   "cell_type": "code",
   "execution_count": 90,
   "outputs": [
    {
     "name": "stderr",
     "output_type": "stream",
     "text": [
      "WARNING:root:Malformed experiment 'mlruns'. Detailed error Yaml file 'C:\\Users\\Mohamed\\Downloads\\mlruns\\mlruns\\meta.yaml' does not exist.\n",
      "Traceback (most recent call last):\n",
      "  File \"C:\\Users\\Mohamed\\anaconda3\\lib\\site-packages\\mlflow\\store\\tracking\\file_store.py\", line 285, in search_experiments\n",
      "    exp = self._get_experiment(exp_id, view_type)\n",
      "  File \"C:\\Users\\Mohamed\\anaconda3\\lib\\site-packages\\mlflow\\store\\tracking\\file_store.py\", line 378, in _get_experiment\n",
      "    meta = FileStore._read_yaml(experiment_dir, FileStore.META_DATA_FILE_NAME)\n",
      "  File \"C:\\Users\\Mohamed\\anaconda3\\lib\\site-packages\\mlflow\\store\\tracking\\file_store.py\", line 1082, in _read_yaml\n",
      "    return _read_helper(root, file_name, attempts_remaining=retries)\n",
      "  File \"C:\\Users\\Mohamed\\anaconda3\\lib\\site-packages\\mlflow\\store\\tracking\\file_store.py\", line 1075, in _read_helper\n",
      "    result = read_yaml(root, file_name)\n",
      "  File \"C:\\Users\\Mohamed\\anaconda3\\lib\\site-packages\\mlflow\\utils\\file_utils.py\", line 213, in read_yaml\n",
      "    raise MissingConfigException(\"Yaml file '%s' does not exist.\" % file_path)\n",
      "mlflow.exceptions.MissingConfigException: Yaml file 'C:\\Users\\Mohamed\\Downloads\\mlruns\\mlruns\\meta.yaml' does not exist.\n"
     ]
    },
    {
     "name": "stdout",
     "output_type": "stream",
     "text": [
      "Train Accuracy: 99.893%\n",
      "Auc Score: 85.341%\n",
      "Eval Accuracy: 99.874%\n"
     ]
    },
    {
     "name": "stderr",
     "output_type": "stream",
     "text": [
      "C:\\Users\\Mohamed\\anaconda3\\lib\\site-packages\\sklearn\\utils\\deprecation.py:87: FutureWarning: Function plot_roc_curve is deprecated; Function :func:`plot_roc_curve` is deprecated in 1.0 and will be removed in 1.2. Use one of the class methods: :meth:`sklearn.metric.RocCurveDisplay.from_predictions` or :meth:`sklearn.metric.RocCurveDisplay.from_estimator`.\n",
      "  warnings.warn(msg, category=FutureWarning)\n"
     ]
    },
    {
     "data": {
      "text/plain": "<Figure size 1008x576 with 1 Axes>",
      "image/png": "[encoded data removed]"
     },
     "metadata": {
      "needs_background": "light"
     },
     "output_type": "display_data"
    },
    {
     "name": "stdout",
     "output_type": "stream",
     "text": [
      "Model run:  e5ee4aa94c0a4b97a4c1abb2d3c94baa\n"
     ]
    },
    {
     "name": "stderr",
     "output_type": "stream",
     "text": [
      "C:\\Users\\Mohamed\\anaconda3\\lib\\site-packages\\_distutils_hack\\__init__.py:30: UserWarning: Setuptools is replacing distutils.\n",
      "  warnings.warn(\"Setuptools is replacing distutils.\")\n"
     ]
    },
    {
     "data": {
      "text/plain": "<Figure size 1008x576 with 2 Axes>",
      "image/png": "[encoded data removed]"
     },
     "metadata": {
      "needs_background": "light"
     },
     "output_type": "display_data"
    }
   ],
   "source": [
    "sk_model = LogisticRegression(random_state=None,\n",
    "                              max_iter=400, solver='newton-cg')\n",
    "mlflow.set_experiment(\"scikit_learn_experiment\")\n",
    "with mlflow.start_run():\n",
    "    train(sk_model, x_train, y_train)\n",
    "    evaluate(sk_model, x_test, y_test)\n",
    "    mlflow.sklearn.log_model(sk_model, \"log_reg_model\")\n",
    "    print(\"Model run: \", mlflow.active_run().info.run_uuid)\n",
    "mlflow.end_run()"
   ],
   "metadata": {
    "collapsed": false
   }
  },
  {
   "cell_type": "code",
   "execution_count": 98,
   "outputs": [],
   "source": [
    "loaded_model = mlflow.sklearn.load_model(\"runs:/8f65f1b14d04495299677950e1866b70/log_reg_model\")"
   ],
   "metadata": {
    "collapsed": false
   }
  },
  {
   "cell_type": "code",
   "execution_count": 99,
   "outputs": [
    {
     "data": {
      "text/plain": "0.9987382145736217"
     },
     "execution_count": 99,
     "metadata": {},
     "output_type": "execute_result"
    }
   ],
   "source": [
    "loaded_model.score(x_test, y_test)"
   ],
   "metadata": {
    "collapsed": false
   }
  },
  {
   "cell_type": "code",
   "execution_count": 93,
   "outputs": [],
   "source": [
    "anomaly_weights = [1, 5, 10, 15]\n",
    "num_folds = 5\n",
    "kfold = KFold(n_splits=num_folds, shuffle=True,\n",
    "              random_state=2020)"
   ],
   "metadata": {
    "collapsed": false
   }
  },
  {
   "cell_type": "code",
   "execution_count": 94,
   "outputs": [
    {
     "name": "stderr",
     "output_type": "stream",
     "text": [
      "WARNING:root:Malformed experiment 'mlruns'. Detailed error Yaml file 'C:\\Users\\Mohamed\\Downloads\\mlruns\\mlruns\\meta.yaml' does not exist.\n",
      "Traceback (most recent call last):\n",
      "  File \"C:\\Users\\Mohamed\\anaconda3\\lib\\site-packages\\mlflow\\store\\tracking\\file_store.py\", line 285, in search_experiments\n",
      "    exp = self._get_experiment(exp_id, view_type)\n",
      "  File \"C:\\Users\\Mohamed\\anaconda3\\lib\\site-packages\\mlflow\\store\\tracking\\file_store.py\", line 378, in _get_experiment\n",
      "    meta = FileStore._read_yaml(experiment_dir, FileStore.META_DATA_FILE_NAME)\n",
      "  File \"C:\\Users\\Mohamed\\anaconda3\\lib\\site-packages\\mlflow\\store\\tracking\\file_store.py\", line 1082, in _read_yaml\n",
      "    return _read_helper(root, file_name, attempts_remaining=retries)\n",
      "  File \"C:\\Users\\Mohamed\\anaconda3\\lib\\site-packages\\mlflow\\store\\tracking\\file_store.py\", line 1075, in _read_helper\n",
      "    result = read_yaml(root, file_name)\n",
      "  File \"C:\\Users\\Mohamed\\anaconda3\\lib\\site-packages\\mlflow\\utils\\file_utils.py\", line 213, in read_yaml\n",
      "    raise MissingConfigException(\"Yaml file '%s' does not exist.\" % file_path)\n",
      "mlflow.exceptions.MissingConfigException: Yaml file 'C:\\Users\\Mohamed\\Downloads\\mlruns\\mlruns\\meta.yaml' does not exist.\n"
     ]
    },
    {
     "name": "stdout",
     "output_type": "stream",
     "text": [
      "----------------------------------------\n",
      "fold 1\n",
      "Anomaly Weight: 1\n",
      "AUC: 0.8\n",
      "eval_acc: 0.9985982127212195\n",
      "----------------------------------------\n",
      "fold 2\n",
      "Anomaly Weight: 1\n",
      "AUC: 0.8568790049001132\n",
      "eval_acc: 0.998422712933754\n",
      "----------------------------------------\n",
      "fold 3\n",
      "Anomaly Weight: 1\n",
      "AUC: 0.8406451922461774\n",
      "eval_acc: 0.9982474588152822\n",
      "----------------------------------------\n",
      "fold 4\n",
      "Anomaly Weight: 1\n",
      "AUC: 0.8682452129973255\n",
      "eval_acc: 0.9987732211706976\n",
      "----------------------------------------\n",
      "fold 5\n",
      "Anomaly Weight: 1\n",
      "AUC: 0.8528532875621686\n",
      "eval_acc: 0.9989484752891693\n",
      "\n",
      "Averages: \n",
      "Accuracy:  0.9985980161860246\n",
      "AUC:  0.8437245395411569\n",
      "Best: \n",
      "Accuracy:  0.9989484752891693\n",
      "AUC:  0.8682452129973255\n",
      "----------------------------------------\n",
      "fold 1\n",
      "Anomaly Weight: 5\n",
      "AUC: 0.8748241603657465\n",
      "eval_acc: 0.9987734361310671\n",
      "----------------------------------------\n",
      "fold 2\n",
      "Anomaly Weight: 5\n",
      "AUC: 0.975398919462244\n",
      "eval_acc: 0.9982474588152822\n",
      "----------------------------------------\n",
      "fold 3\n",
      "Anomaly Weight: 5\n",
      "AUC: 0.9314663169342972\n",
      "eval_acc: 0.9987732211706976\n",
      "----------------------------------------\n",
      "fold 4\n",
      "Anomaly Weight: 5\n",
      "AUC: 0.8943851628367561\n",
      "eval_acc: 0.9985979670522257\n",
      "----------------------------------------\n",
      "fold 5\n",
      "Anomaly Weight: 5\n",
      "AUC: 0.8820013855427915\n",
      "eval_acc: 0.9985979670522257\n",
      "\n",
      "Averages: \n",
      "Accuracy:  0.9985980100442996\n",
      "AUC:  0.9116151890283671\n",
      "Best: \n",
      "Accuracy:  0.9987734361310671\n",
      "AUC:  0.975398919462244\n",
      "----------------------------------------\n",
      "fold 1\n",
      "Anomaly Weight: 10\n",
      "AUC: 0.9243845612801126\n",
      "eval_acc: 0.9982477659015244\n",
      "----------------------------------------\n",
      "fold 2\n",
      "Anomaly Weight: 10\n",
      "AUC: 0.9753109687146626\n",
      "eval_acc: 0.9980722046968104\n",
      "----------------------------------------\n",
      "fold 3\n",
      "Anomaly Weight: 10\n",
      "AUC: 0.9313783507133262\n",
      "eval_acc: 0.9985979670522257\n",
      "----------------------------------------\n",
      "fold 4\n",
      "Anomaly Weight: 10\n",
      "AUC: 0.8943851628367561\n",
      "eval_acc: 0.9985979670522257\n",
      "----------------------------------------\n",
      "fold 5\n",
      "Anomaly Weight: 10\n",
      "AUC: 0.8820013855427915\n",
      "eval_acc: 0.9985979670522257\n",
      "\n",
      "Averages: \n",
      "Accuracy:  0.9984227743510024\n",
      "AUC:  0.9214920858175297\n",
      "Best: \n",
      "Accuracy:  0.9985979670522257\n",
      "AUC:  0.9753109687146626\n",
      "----------------------------------------\n",
      "fold 1\n",
      "Anomaly Weight: 15\n",
      "AUC: 0.9242966414629858\n",
      "eval_acc: 0.9980725424916769\n",
      "----------------------------------------\n",
      "fold 2\n",
      "Anomaly Weight: 15\n",
      "AUC: 0.9751350672194998\n",
      "eval_acc: 0.9977216964598669\n",
      "----------------------------------------\n",
      "fold 3\n",
      "Anomaly Weight: 15\n",
      "AUC: 0.9312903844923551\n",
      "eval_acc: 0.998422712933754\n",
      "----------------------------------------\n",
      "fold 4\n",
      "Anomaly Weight: 15\n",
      "AUC: 0.8940334835682489\n",
      "eval_acc: 0.9978969505783386\n",
      "----------------------------------------\n",
      "fold 5\n",
      "Anomaly Weight: 15\n",
      "AUC: 0.8813861631838532\n",
      "eval_acc: 0.9973711882229233\n",
      "\n",
      "Averages: \n",
      "Accuracy:  0.9978970181373118\n",
      "AUC:  0.9212283479853886\n",
      "Best: \n",
      "Accuracy:  0.998422712933754\n",
      "AUC:  0.9751350672194998\n"
     ]
    }
   ],
   "source": [
    "mlflow.set_experiment(\"sklearn_creditcard_broad_search\")\n",
    "logs = []\n",
    "for f in range(len(anomaly_weights)):\n",
    "    fold = 1\n",
    "    accuracies = []\n",
    "    auc_scores= []\n",
    "    for train, test in kfold.split(x_validate, y_validate):\n",
    "        with mlflow.start_run():\n",
    "            weight = anomaly_weights[f]\n",
    "            mlflow.log_param(\"anomaly_weight\", weight)\n",
    "            class_weights= {\n",
    "                0: 1,\n",
    "                1: weight\n",
    "            }\n",
    "            sk_model = LogisticRegression(random_state=None,\n",
    "                                  max_iter=400,\n",
    "                                  solver='newton-cg',\n",
    "                                  class_weight=class_weights).fit(x_validate[train],y_validate[train])\n",
    "            for h in range(40): print('-', end=\"\")\n",
    "            print(f\"\\nfold {fold}\\nAnomaly Weight: {weight}\")\n",
    "            train_acc = sk_model.score(x_validate[train],\n",
    "                                       y_validate[train])\n",
    "            mlflow.log_metric(\"train_acc\", train_acc)\n",
    "            eval_acc = sk_model.score(x_validate[test],\n",
    "                                      y_validate[test])\n",
    "            preds = sk_model.predict(x_validate[test])\n",
    "            mlflow.log_metric(\"eval_acc\", eval_acc)\n",
    "            try:\n",
    "                auc_score = roc_auc_score(y_validate[test], preds)\n",
    "            except:\n",
    "                auc_score = -1\n",
    "            mlflow.log_metric(\"auc_score\", auc_score)\n",
    "            print(\"AUC: {}\\neval_acc: {}\".format(auc_score,\n",
    "                                                 eval_acc))\n",
    "            accuracies.append(eval_acc)\n",
    "            auc_scores.append(auc_score)\n",
    "            log = [sk_model, x_validate[test],\n",
    "                   y_validate[test], preds]\n",
    "            logs.append(log)\n",
    "            mlflow.sklearn.log_model(sk_model,\n",
    "                                     f\"anom_weight_{weight}_fold_{fold}\")\n",
    "            fold = fold + 1\n",
    "            mlflow.end_run()\n",
    "    print(\"\\nAverages: \")\n",
    "    print(\"Accuracy: \", np.mean(accuracies))\n",
    "    print(\"AUC: \", np.mean(auc_scores))\n",
    "    print(\"Best: \")\n",
    "    print(\"Accuracy: \", np.max(accuracies))\n",
    "    print(\"AUC: \", np.max(auc_scores))\n"
   ],
   "metadata": {
    "collapsed": false
   }
  },
  {
   "cell_type": "markdown",
   "source": [
    "Based on these results, you can see that there seems to be an increase\n",
    "from 5 to 10, but a slight decrease from 10 to 15. From this data, the\n",
    "ideal range seems to be somewhere in between 10 and 15, but again, the\n",
    "decrease in average AUC from 10 to 15 is essentially negligible. And so,\n",
    "what if it’s potentially beyond 15, and you started out with the wrong range\n",
    "to search over?\n",
    "##### Let's increase anomaly weight parameter"
   ],
   "metadata": {
    "collapsed": false
   }
  },
  {
   "cell_type": "code",
   "execution_count": 95,
   "outputs": [],
   "source": [
    "anomaly_weights = [10, 50, 100, 150, 200]"
   ],
   "metadata": {
    "collapsed": false
   }
  },
  {
   "cell_type": "code",
   "execution_count": 96,
   "outputs": [],
   "source": [
    "num_folds = 5\n",
    "kfold = KFold(n_splits=num_folds, shuffle=True,\n",
    "              random_state=2020)"
   ],
   "metadata": {
    "collapsed": false
   }
  },
  {
   "cell_type": "code",
   "execution_count": 97,
   "outputs": [
    {
     "name": "stderr",
     "output_type": "stream",
     "text": [
      "WARNING:root:Malformed experiment 'mlruns'. Detailed error Yaml file 'C:\\Users\\Mohamed\\Downloads\\mlruns\\mlruns\\meta.yaml' does not exist.\n",
      "Traceback (most recent call last):\n",
      "  File \"C:\\Users\\Mohamed\\anaconda3\\lib\\site-packages\\mlflow\\store\\tracking\\file_store.py\", line 285, in search_experiments\n",
      "    exp = self._get_experiment(exp_id, view_type)\n",
      "  File \"C:\\Users\\Mohamed\\anaconda3\\lib\\site-packages\\mlflow\\store\\tracking\\file_store.py\", line 378, in _get_experiment\n",
      "    meta = FileStore._read_yaml(experiment_dir, FileStore.META_DATA_FILE_NAME)\n",
      "  File \"C:\\Users\\Mohamed\\anaconda3\\lib\\site-packages\\mlflow\\store\\tracking\\file_store.py\", line 1082, in _read_yaml\n",
      "    return _read_helper(root, file_name, attempts_remaining=retries)\n",
      "  File \"C:\\Users\\Mohamed\\anaconda3\\lib\\site-packages\\mlflow\\store\\tracking\\file_store.py\", line 1075, in _read_helper\n",
      "    result = read_yaml(root, file_name)\n",
      "  File \"C:\\Users\\Mohamed\\anaconda3\\lib\\site-packages\\mlflow\\utils\\file_utils.py\", line 213, in read_yaml\n",
      "    raise MissingConfigException(\"Yaml file '%s' does not exist.\" % file_path)\n",
      "mlflow.exceptions.MissingConfigException: Yaml file 'C:\\Users\\Mohamed\\Downloads\\mlruns\\mlruns\\meta.yaml' does not exist.\n"
     ]
    },
    {
     "name": "stdout",
     "output_type": "stream",
     "text": [
      "----------------------------------------\n",
      "fold 1\n",
      "Anomaly Weight: 10\n",
      "AUC: 0.9243845612801126\n",
      "eval_acc: 0.9982477659015244\n",
      "----------------------------------------\n",
      "fold 2\n",
      "Anomaly Weight: 10\n",
      "AUC: 0.9753109687146626\n",
      "eval_acc: 0.9980722046968104\n",
      "----------------------------------------\n",
      "fold 3\n",
      "Anomaly Weight: 10\n",
      "AUC: 0.9313783507133262\n",
      "eval_acc: 0.9985979670522257\n",
      "----------------------------------------\n",
      "fold 4\n",
      "Anomaly Weight: 10\n",
      "AUC: 0.8943851628367561\n",
      "eval_acc: 0.9985979670522257\n",
      "----------------------------------------\n",
      "fold 5\n",
      "Anomaly Weight: 10\n",
      "AUC: 0.8820013855427915\n",
      "eval_acc: 0.9985979670522257\n",
      "\n",
      "Averages: \n",
      "Accuracy:  0.9984227743510024\n",
      "AUC:  0.9214920858175297\n",
      "Best: \n",
      "Accuracy:  0.9985979670522257\n",
      "AUC:  0.9753109687146626\n",
      "----------------------------------------\n",
      "fold 1\n",
      "Anomaly Weight: 50\n",
      "AUC: 0.922626164937577\n",
      "eval_acc: 0.9947432977045734\n",
      "----------------------------------------\n",
      "fold 2\n",
      "Anomaly Weight: 50\n",
      "AUC: 0.9734640030154541\n",
      "eval_acc: 0.9943918682089029\n",
      "----------------------------------------\n",
      "fold 3\n",
      "Anomaly Weight: 50\n",
      "AUC: 0.9296190262939033\n",
      "eval_acc: 0.99509288468279\n",
      "----------------------------------------\n",
      "fold 4\n",
      "Anomaly Weight: 50\n",
      "AUC: 0.9183271172480171\n",
      "eval_acc: 0.9940413599719593\n",
      "----------------------------------------\n",
      "fold 5\n",
      "Anomaly Weight: 50\n",
      "AUC: 0.8797162739238779\n",
      "eval_acc: 0.9940413599719593\n",
      "\n",
      "Averages: \n",
      "Accuracy:  0.994462154108037\n",
      "AUC:  0.9247505170837659\n",
      "Best: \n",
      "Accuracy:  0.99509288468279\n",
      "AUC:  0.9734640030154541\n",
      "----------------------------------------\n",
      "fold 1\n",
      "Anomaly Weight: 100\n",
      "AUC: 0.9205160893265342\n",
      "eval_acc: 0.990537935868232\n",
      "----------------------------------------\n",
      "fold 2\n",
      "Anomaly Weight: 100\n",
      "AUC: 0.9951627088830255\n",
      "eval_acc: 0.9903610234840519\n",
      "----------------------------------------\n",
      "fold 3\n",
      "Anomaly Weight: 100\n",
      "AUC: 0.9268920734437976\n",
      "eval_acc: 0.9896600070101648\n",
      "----------------------------------------\n",
      "fold 4\n",
      "Anomaly Weight: 100\n",
      "AUC: 0.9429724301962926\n",
      "eval_acc: 0.9908867858394672\n",
      "----------------------------------------\n",
      "fold 5\n",
      "Anomaly Weight: 100\n",
      "AUC: 0.8777827179386432\n",
      "eval_acc: 0.9901857693655801\n",
      "\n",
      "Averages: \n",
      "Accuracy:  0.9903263043134993\n",
      "AUC:  0.9326652039576586\n",
      "Best: \n",
      "Accuracy:  0.9908867858394672\n",
      "AUC:  0.9951627088830255\n",
      "----------------------------------------\n",
      "fold 1\n",
      "Anomaly Weight: 150\n",
      "AUC: 0.9186697731668719\n",
      "eval_acc: 0.9868582442614333\n",
      "----------------------------------------\n",
      "fold 2\n",
      "Anomaly Weight: 150\n",
      "AUC: 0.9927000879507476\n",
      "eval_acc: 0.985453908166842\n",
      "----------------------------------------\n",
      "fold 3\n",
      "Anomaly Weight: 150\n",
      "AUC: 0.9247808841404901\n",
      "eval_acc: 0.985453908166842\n",
      "----------------------------------------\n",
      "fold 4\n",
      "Anomaly Weight: 150\n",
      "AUC: 0.9411261140366303\n",
      "eval_acc: 0.9872064493515598\n",
      "----------------------------------------\n",
      "fold 5\n",
      "Anomaly Weight: 150\n",
      "AUC: 0.9053488155677106\n",
      "eval_acc: 0.9866806869961444\n",
      "\n",
      "Averages: \n",
      "Accuracy:  0.9863306393885642\n",
      "AUC:  0.93652513497249\n",
      "Best: \n",
      "Accuracy:  0.9872064493515598\n",
      "AUC:  0.9927000879507476\n",
      "----------------------------------------\n",
      "fold 1\n",
      "Anomaly Weight: 200\n",
      "AUC: 0.9427026551784772\n",
      "eval_acc: 0.9851060101629577\n",
      "----------------------------------------\n",
      "fold 2\n",
      "Anomaly Weight: 200\n",
      "AUC: 0.9904133685136324\n",
      "eval_acc: 0.9808973010865756\n",
      "----------------------------------------\n",
      "fold 3\n",
      "Anomaly Weight: 200\n",
      "AUC: 0.9226696948371826\n",
      "eval_acc: 0.9812478093235191\n",
      "----------------------------------------\n",
      "fold 4\n",
      "Anomaly Weight: 200\n",
      "AUC: 0.9391039582427143\n",
      "eval_acc: 0.9831756046267087\n",
      "----------------------------------------\n",
      "fold 5\n",
      "Anomaly Weight: 200\n",
      "AUC: 0.9029758150403772\n",
      "eval_acc: 0.9819488257974063\n",
      "\n",
      "Averages: \n",
      "Accuracy:  0.9824751101994336\n",
      "AUC:  0.9395730983624768\n",
      "Best: \n",
      "Accuracy:  0.9851060101629577\n",
      "AUC:  0.9904133685136324\n"
     ]
    }
   ],
   "source": [
    "mlflow.set_experiment(\"sklearn_creditcard_guided_search\")\n",
    "logs = []\n",
    "for f in range(len(anomaly_weights)):\n",
    "    fold = 1\n",
    "    accuracies = []\n",
    "    auc_scores= []\n",
    "    for train, test in kfold.split(x_validate, y_validate):\n",
    "        with mlflow.start_run():\n",
    "            weight = anomaly_weights[f]\n",
    "            mlflow.log_param(\"anomaly_weight\", weight)\n",
    "            class_weights= {\n",
    "                0: 1,\n",
    "                1: weight\n",
    "            }\n",
    "            sk_model = LogisticRegression(random_state=None,\n",
    "                                          max_iter=400,\n",
    "                                          solver='newton-cg',\n",
    "                                          class_weight=class_weights).fit(x_validate[train],y_validate[train])\n",
    "            for h in range(40): print('-', end=\"\")\n",
    "            print(f\"\\nfold {fold}\\nAnomaly Weight: {weight}\")\n",
    "            train_acc = sk_model.score(x_validate[train],\n",
    "                                       y_validate[train])\n",
    "            mlflow.log_metric(\"train_acc\", train_acc)\n",
    "            eval_acc = sk_model.score(x_validate[test],\n",
    "                                      y_validate[test])\n",
    "            preds = sk_model.predict(x_validate[test])\n",
    "            mlflow.log_metric(\"eval_acc\", eval_acc)\n",
    "            try:\n",
    "                auc_score = roc_auc_score(y_validate[test], preds)\n",
    "            except:\n",
    "                auc_score = -1\n",
    "            mlflow.log_metric(\"auc_score\", auc_score)\n",
    "            print(\"AUC: {}\\neval_acc: {}\".format(auc_score,\n",
    "                                                 eval_acc))\n",
    "            accuracies.append(eval_acc)\n",
    "            auc_scores.append(auc_score)\n",
    "            log = [sk_model, x_validate[test],\n",
    "                   y_validate[test], preds]\n",
    "            logs.append(log)\n",
    "            mlflow.sklearn.log_model(sk_model,\n",
    "                                     f\"anom_weight_{weight}_fold_{fold}\")\n",
    "            fold = fold + 1\n",
    "            mlflow.end_run()\n",
    "    print(\"\\nAverages: \")\n",
    "    print(\"Accuracy: \", np.mean(accuracies))\n",
    "    print(\"AUC: \", np.mean(auc_scores))\n",
    "    print(\"Best: \")\n",
    "    print(\"Accuracy: \", np.max(accuracies))\n",
    "    print(\"AUC: \", np.max(auc_scores))\n"
   ],
   "metadata": {
    "collapsed": false
   }
  },
  {
   "cell_type": "markdown",
   "source": [
    "The new average AUC now is 0.9396, so this anomaly weight setting\n",
    "seems even better.\n",
    "So, from this, you know that the best hyperparameter setting is\n",
    "somewhere above 200."
   ],
   "metadata": {
    "collapsed": false
   }
  },
  {
   "cell_type": "code",
   "execution_count": 100,
   "outputs": [],
   "source": [
    "loaded_model = mlflow.sklearn.load_model(\"runs:/e5ee4aa94c0a4b97a4c1abb2d3c94baa/log_reg_model\")"
   ],
   "metadata": {
    "collapsed": false
   }
  },
  {
   "cell_type": "code",
   "execution_count": 101,
   "outputs": [
    {
     "data": {
      "text/plain": "LogisticRegression(max_iter=400, solver='newton-cg')"
     },
     "execution_count": 101,
     "metadata": {},
     "output_type": "execute_result"
    }
   ],
   "source": [
    "loaded_model"
   ],
   "metadata": {
    "collapsed": false
   }
  }
 ],
 "metadata": {
  "kernelspec": {
   "display_name": "Python 3",
   "language": "python",
   "name": "python3"
  },
  "language_info": {
   "codemirror_mode": {
    "name": "ipython",
    "version": 2
   },
   "file_extension": ".py",
   "mimetype": "text/x-python",
   "name": "python",
   "nbconvert_exporter": "python",
   "pygments_lexer": "ipython2",
   "version": "2.7.6"
  }
 },
 "nbformat": 4,
 "nbformat_minor": 0
}
